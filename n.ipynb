{
 "cells": [
  {
   "cell_type": "code",
   "execution_count": 2,
   "metadata": {},
   "outputs": [],
   "source": [
    "from cytomine import Cytomine\n",
    "from cytomine.models import User, UserCollection, ProjectCollection,Project"
   ]
  },
  {
   "cell_type": "code",
   "execution_count": 4,
   "metadata": {},
   "outputs": [
    {
     "name": "stdout",
     "output_type": "stream",
     "text": [
      "[2023-10-14 10:22:07,261][INFO] [GET] /server/ping | 200 OK\n",
      "[2023-10-14 10:22:07,279][INFO] [GET] [currentuser] CURRENT USER - 72728 : terumo_admin_user | 200 OK\n"
     ]
    },
    {
     "name": "stdout",
     "output_type": "stream",
     "text": [
      "[2023-10-14 10:22:07,301][INFO] [GET] [user collection] 14 objects | 200 OK\n",
      "[2023-10-14 10:22:07,321][INFO] [GET] [project collection] 9 objects | 200 OK\n"
     ]
    }
   ],
   "source": [
    "_host = 'http://maods.homelab.core'\n",
    "\n",
    "#test_user\n",
    "_public_key = '142d946a-836b-48b9-8b9e-9e0b568c49ec'\n",
    "_private_key = 'd23221f6-2181-4d91-8b59-7437d46bc38b'\n",
    "\n",
    "#terumo_admin\n",
    "_public_key = 'e4c84130-d5d4-41bd-8db0-0384339f31c2'\n",
    "_private_key = '98a22af6-17de-491a-88d3-3e798ada03fb'\n",
    "\n",
    "\n",
    "with Cytomine(host=_host, public_key=_public_key, private_key=_private_key) as cytomine:\n",
    "    users = UserCollection().fetch()\n",
    "\n",
    "    # projects = ProjectCollection().fetch()\n",
    "    # print(projects)\n",
    "    # for project in projects:\n",
    "    #     print(project)\n",
    "    #     print(project.name)\n",
    "\n",
    "    # project = Project('global_project_test2').save()\n",
    "    # global_project_name = 'global_project_test3'\n",
    "    projects = ProjectCollection().fetch()\n",
    "    # proj_list = [proj for proj in projects.data() if proj.name == global_project_name]\n",
    "    # if proj_list:\n",
    "    #     global_project = proj_list.pop()\n",
    "    # else:\n",
    "    #     global_project = Project(global_project_name).save()\n",
    "\n",
    "    \n",
    "\n"
   ]
  },
  {
   "cell_type": "code",
   "execution_count": 42,
   "metadata": {},
   "outputs": [],
   "source": [
    "global_project_name = 'global_project_test2'\n",
    "proj_list = [proj for proj in projects.data() if proj.name == global_project_name]\n",
    "global_project = proj_list.pop()\n",
    "\n"
   ]
  },
  {
   "cell_type": "code",
   "execution_count": 7,
   "metadata": {},
   "outputs": [],
   "source": [
    "project = projects.data()\n",
    "\n",
    "project.id\n",
    "project.created\n",
    "project.name\n",
    "project.numberOfImages"
   ]
  },
  {
   "cell_type": "code",
   "execution_count": 15,
   "metadata": {},
   "outputs": [
    {
     "data": {
      "text/plain": [
       "[<cytomine.models.project.Project at 0x2b918feb3a0>,\n",
       " <cytomine.models.project.Project at 0x2b91a1e1750>,\n",
       " <cytomine.models.project.Project at 0x2b91a552ec0>,\n",
       " <cytomine.models.project.Project at 0x2b91a5ac760>,\n",
       " <cytomine.models.project.Project at 0x2b91a5ac400>,\n",
       " <cytomine.models.project.Project at 0x2b91a5ac790>,\n",
       " <cytomine.models.project.Project at 0x2b91a5ad060>,\n",
       " <cytomine.models.project.Project at 0x2b91a5ac940>,\n",
       " <cytomine.models.project.Project at 0x2b91a5ac850>]"
      ]
     },
     "execution_count": 15,
     "metadata": {},
     "output_type": "execute_result"
    }
   ],
   "source": [
    "projects.data()\n"
   ]
  },
  {
   "cell_type": "code",
   "execution_count": 11,
   "metadata": {},
   "outputs": [
    {
     "data": {
      "text/plain": [
       "'{\"id\": 1350, \"created\": \"1694734248788\", \"name\": \"test\", \"blindMode\": false, \"numberOfSlides\": 0, \"numberOfImages\": 4, \"numberOfAnnotations\": 2, \"numberOfJobAnnotations\": 0, \"retrievalProjects\": [], \"numberOfReviewedAnnotations\": 0, \"retrievalDisable\": false, \"retrievalAllOntology\": true, \"isClosed\": false, \"isReadOnly\": false, \"hideUsersLayers\": false, \"hideAdminsLayers\": false, \"class_\": \"be.cytomine.project.Project\", \"areImagesDownloadable\": false, \"isRestricted\": false}'"
      ]
     },
     "execution_count": 11,
     "metadata": {},
     "output_type": "execute_result"
    }
   ],
   "source": [
    "p.to_json()"
   ]
  },
  {
   "cell_type": "code",
   "execution_count": null,
   "metadata": {},
   "outputs": [],
   "source": [
    "p.add_user()\n",
    "p.delete_user()"
   ]
  },
  {
   "cell_type": "code",
   "execution_count": 70,
   "metadata": {},
   "outputs": [
    {
     "data": {
      "text/plain": [
       "{'data': {'message': 'OK'}, 'status': 200}"
      ]
     },
     "execution_count": 70,
     "metadata": {},
     "output_type": "execute_result"
    }
   ],
   "source": [
    "result"
   ]
  },
  {
   "cell_type": "code",
   "execution_count": null,
   "metadata": {},
   "outputs": [
    {
     "ename": "",
     "evalue": "",
     "output_type": "error",
     "traceback": [
      "\u001b[1;31mRunning cells with 'new_api-7naizVw_' requires the ipykernel package.\n",
      "\u001b[1;31mRun the following command to install 'ipykernel' into the Python environment. \n",
      "\u001b[1;31mCommand: 'c:/Users/Maods/.virtualenvs/new_api-7naizVw_/Scripts/python.exe -m pip install ipykernel -U --force-reinstall'"
     ]
    }
   ],
   "source": [
    "from pydantic.v1 import BaseSettings"
   ]
  },
  {
   "cell_type": "code",
   "execution_count": 19,
   "metadata": {},
   "outputs": [],
   "source": [
    "from dotenv import load_dotenv"
   ]
  }
 ],
 "metadata": {
  "kernelspec": {
   "display_name": "terumo-service-search-monolith-tK6ZlZEC",
   "language": "python",
   "name": "python3"
  },
  "language_info": {
   "codemirror_mode": {
    "name": "ipython",
    "version": 3
   },
   "file_extension": ".py",
   "mimetype": "text/x-python",
   "name": "python",
   "nbconvert_exporter": "python",
   "pygments_lexer": "ipython3",
   "version": "3.10.4"
  },
  "orig_nbformat": 4
 },
 "nbformat": 4,
 "nbformat_minor": 2
}
