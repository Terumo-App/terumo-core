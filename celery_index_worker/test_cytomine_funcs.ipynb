{
 "cells": [
  {
   "cell_type": "code",
   "execution_count": null,
   "metadata": {},
   "outputs": [],
   "source": [
    "#instalação cytomine client lib\n",
    "# !pip install --extra-index-url=https://packagecloud.io/cytomine-uliege/Cytomine-python-client/pypi/simple cytomine-python-client"
   ]
  },
  {
   "cell_type": "code",
   "execution_count": 1,
   "metadata": {},
   "outputs": [],
   "source": [
    "from cytomine import Cytomine\n",
    "from cytomine.models import User, UserCollection, ProjectCollection,Project,ImageInstanceCollection, ImageInstance, AttachedFileCollection"
   ]
  },
  {
   "cell_type": "code",
   "execution_count": 2,
   "metadata": {},
   "outputs": [],
   "source": []
  },
  {
   "cell_type": "code",
   "execution_count": 22,
   "metadata": {},
   "outputs": [
    {
     "name": "stdout",
     "output_type": "stream",
     "text": [
      "[2023-10-18 00:27:17,323][INFO] [GET] /server/ping | 200 OK\n",
      "[2023-10-18 00:27:17,341][INFO] [GET] [currentuser] CURRENT USER - 72728 : terumo_admin_user | 200 OK\n",
      "[2023-10-18 00:27:17,369][INFO] [GET] [user collection] 17 objects | 200 OK\n"
     ]
    },
    {
     "name": "stdout",
     "output_type": "stream",
     "text": [
      "[2023-10-18 00:27:17,389][INFO] [GET] [project collection] 18 objects | 200 OK\n"
     ]
    }
   ],
   "source": [
    "_host = 'http://maods.homelab.core'\n",
    "\n",
    "#test_user\n",
    "_public_key = '142d946a-836b-48b9-8b9e-9e0b568c49ec'\n",
    "_private_key = 'd23221f6-2181-4d91-8b59-7437d46bc38b'\n",
    "\n",
    "#terumo_admin\n",
    "_public_key = 'e4c84130-d5d4-41bd-8db0-0384339f31c2'\n",
    "_private_key = '98a22af6-17de-491a-88d3-3e798ada03fb'\n",
    "\n",
    "\n",
    "with Cytomine(host=_host, public_key=_public_key, private_key=_private_key) as cytomine:\n",
    "    users = UserCollection().fetch()\n",
    "\n",
    "    # projects = ProjectCollection().fetch()\n",
    "    # print(projects)\n",
    "    # for project in projects:\n",
    "    #     print(project)\n",
    "    #     print(project.name)\n",
    "\n",
    "    # project = Project('global_project_test2').save()\n",
    "    # global_project_name = 'global_project_test3'\n",
    "    projects = ProjectCollection().fetch()\n",
    "    # proj_list = [proj for proj in projects.data() if proj.name == global_project_name]\n",
    "    # if proj_list:\n",
    "    #     global_project = proj_list.pop()\n",
    "    # else:\n",
    "    #     global_project = Project(global_project_name).save()\n",
    "\n",
    "    \n",
    "\n"
   ]
  },
  {
   "cell_type": "code",
   "execution_count": 38,
   "metadata": {},
   "outputs": [
    {
     "data": {
      "text/plain": [
       "[<cytomine.models.project.Project at 0x1897d26d6c0>,\n",
       " <cytomine.models.project.Project at 0x1897d26ce20>,\n",
       " <cytomine.models.project.Project at 0x1897d26d000>,\n",
       " <cytomine.models.project.Project at 0x1897d26d180>,\n",
       " <cytomine.models.project.Project at 0x1897d26c670>,\n",
       " <cytomine.models.project.Project at 0x1897d26d270>,\n",
       " <cytomine.models.project.Project at 0x1897d26d030>,\n",
       " <cytomine.models.project.Project at 0x1897d26cf70>,\n",
       " <cytomine.models.project.Project at 0x1897d26d0c0>,\n",
       " <cytomine.models.project.Project at 0x1897d26cfd0>,\n",
       " <cytomine.models.project.Project at 0x1897d26d150>,\n",
       " <cytomine.models.project.Project at 0x1897d26d090>,\n",
       " <cytomine.models.project.Project at 0x1897d26d1b0>,\n",
       " <cytomine.models.project.Project at 0x1897d26d0f0>,\n",
       " <cytomine.models.project.Project at 0x1897d26c430>,\n",
       " <cytomine.models.project.Project at 0x1897d26d120>,\n",
       " <cytomine.models.project.Project at 0x1897d26de10>,\n",
       " <cytomine.models.project.Project at 0x1897d26de40>]"
      ]
     },
     "execution_count": 38,
     "metadata": {},
     "output_type": "execute_result"
    }
   ],
   "source": [
    "projects.data()[0]"
   ]
  },
  {
   "cell_type": "code",
   "execution_count": 42,
   "metadata": {},
   "outputs": [
    {
     "name": "stdout",
     "output_type": "stream",
     "text": [
      "[2023-10-18 01:45:41,087][INFO] [GET] /server/ping | 200 OK\n",
      "[2023-10-18 01:45:41,106][INFO] [GET] [currentuser] CURRENT USER - 72728 : terumo_admin_user | 200 OK\n"
     ]
    },
    {
     "name": "stdout",
     "output_type": "stream",
     "text": [
      "[2023-10-18 01:45:41,334][INFO] [GET] [imageinstance collection] 62 objects | 200 OK\n"
     ]
    }
   ],
   "source": []
  },
  {
   "cell_type": "code",
   "execution_count": 45,
   "metadata": {},
   "outputs": [
    {
     "data": {
      "text/plain": [
       "<cytomine.models.image.ImageInstance at 0x117a304fb50>"
      ]
     },
     "execution_count": 45,
     "metadata": {},
     "output_type": "execute_result"
    }
   ],
   "source": []
  },
  {
   "cell_type": "code",
   "execution_count": 29,
   "metadata": {},
   "outputs": [],
   "source": [
    "img =images.data()[0]"
   ]
  },
  {
   "cell_type": "code",
   "execution_count": 73,
   "metadata": {},
   "outputs": [],
   "source": [
    "\n"
   ]
  },
  {
   "cell_type": "code",
   "execution_count": 54,
   "metadata": {},
   "outputs": [
    {
     "name": "stdout",
     "output_type": "stream",
     "text": [
      "[2023-10-18 00:39:48,861][INFO] [GET] [project] 73025 : Global Project | 200 OK\n",
      "[2023-10-18 00:39:48,879][INFO] [GET] [attachedfile collection] 0 objects | 200 OK\n"
     ]
    }
   ],
   "source": [
    "\n",
    "\n",
    "attached_files = AttachedFileCollection(Project().fetch(73025)).fetch()"
   ]
  },
  {
   "cell_type": "code",
   "execution_count": 42,
   "metadata": {},
   "outputs": [],
   "source": [
    "global_project_name = 'global_project_test2'\n",
    "proj_list = [proj for proj in projects.data() if proj.name == global_project_name]\n",
    "global_project = proj_list.pop()\n",
    "\n"
   ]
  },
  {
   "cell_type": "code",
   "execution_count": 7,
   "metadata": {},
   "outputs": [],
   "source": [
    "project = projects.data()\n",
    "\n",
    "project.id\n",
    "project.created\n",
    "project.name\n",
    "project.numberOfImages"
   ]
  },
  {
   "cell_type": "code",
   "execution_count": 15,
   "metadata": {},
   "outputs": [
    {
     "data": {
      "text/plain": [
       "[<cytomine.models.project.Project at 0x2b918feb3a0>,\n",
       " <cytomine.models.project.Project at 0x2b91a1e1750>,\n",
       " <cytomine.models.project.Project at 0x2b91a552ec0>,\n",
       " <cytomine.models.project.Project at 0x2b91a5ac760>,\n",
       " <cytomine.models.project.Project at 0x2b91a5ac400>,\n",
       " <cytomine.models.project.Project at 0x2b91a5ac790>,\n",
       " <cytomine.models.project.Project at 0x2b91a5ad060>,\n",
       " <cytomine.models.project.Project at 0x2b91a5ac940>,\n",
       " <cytomine.models.project.Project at 0x2b91a5ac850>]"
      ]
     },
     "execution_count": 15,
     "metadata": {},
     "output_type": "execute_result"
    }
   ],
   "source": [
    "projects.data()\n"
   ]
  },
  {
   "cell_type": "code",
   "execution_count": 11,
   "metadata": {},
   "outputs": [
    {
     "data": {
      "text/plain": [
       "'{\"id\": 1350, \"created\": \"1694734248788\", \"name\": \"test\", \"blindMode\": false, \"numberOfSlides\": 0, \"numberOfImages\": 4, \"numberOfAnnotations\": 2, \"numberOfJobAnnotations\": 0, \"retrievalProjects\": [], \"numberOfReviewedAnnotations\": 0, \"retrievalDisable\": false, \"retrievalAllOntology\": true, \"isClosed\": false, \"isReadOnly\": false, \"hideUsersLayers\": false, \"hideAdminsLayers\": false, \"class_\": \"be.cytomine.project.Project\", \"areImagesDownloadable\": false, \"isRestricted\": false}'"
      ]
     },
     "execution_count": 11,
     "metadata": {},
     "output_type": "execute_result"
    }
   ],
   "source": [
    "p.to_json()"
   ]
  },
  {
   "cell_type": "code",
   "execution_count": null,
   "metadata": {},
   "outputs": [],
   "source": [
    "p.add_user()\n",
    "p.delete_user()"
   ]
  },
  {
   "cell_type": "code",
   "execution_count": 70,
   "metadata": {},
   "outputs": [
    {
     "data": {
      "text/plain": [
       "{'data': {'message': 'OK'}, 'status': 200}"
      ]
     },
     "execution_count": 70,
     "metadata": {},
     "output_type": "execute_result"
    }
   ],
   "source": [
    "result"
   ]
  },
  {
   "cell_type": "code",
   "execution_count": null,
   "metadata": {},
   "outputs": [
    {
     "ename": "",
     "evalue": "",
     "output_type": "error",
     "traceback": [
      "\u001b[1;31mRunning cells with 'new_api-7naizVw_' requires the ipykernel package.\n",
      "\u001b[1;31mRun the following command to install 'ipykernel' into the Python environment. \n",
      "\u001b[1;31mCommand: 'c:/Users/Maods/.virtualenvs/new_api-7naizVw_/Scripts/python.exe -m pip install ipykernel -U --force-reinstall'"
     ]
    }
   ],
   "source": [
    "from pydantic.v1 import BaseSettings"
   ]
  },
  {
   "cell_type": "code",
   "execution_count": 19,
   "metadata": {},
   "outputs": [],
   "source": [
    "from dotenv import load_dotenv"
   ]
  },
  {
   "cell_type": "code",
   "execution_count": 1,
   "metadata": {},
   "outputs": [],
   "source": [
    "import requests\n"
   ]
  },
  {
   "cell_type": "code",
   "execution_count": 46,
   "metadata": {},
   "outputs": [
    {
     "data": {
      "text/plain": [
       "'54d3a2e8-3b0b-4e1a-ab30-cba6433e608c'"
      ]
     },
     "execution_count": 46,
     "metadata": {},
     "output_type": "execute_result"
    }
   ],
   "source": [
    "#global project\n",
    "collection_id=73025\n",
    "res = requests.get(f'http://localhost:8000/v1/index/collection-index/{collection_id}')\n",
    "res.json()"
   ]
  },
  {
   "cell_type": "code",
   "execution_count": 44,
   "metadata": {},
   "outputs": [
    {
     "data": {
      "text/plain": [
       "'Status of the Task PENDING'"
      ]
     },
     "execution_count": 44,
     "metadata": {},
     "output_type": "execute_result"
    }
   ],
   "source": [
    "res2 = requests.get(f'http://localhost:8000/v1/index/task_status/{res.json()}')\n",
    "res2.json()"
   ]
  },
  {
   "cell_type": "code",
   "execution_count": 30,
   "metadata": {},
   "outputs": [
    {
     "data": {
      "text/plain": [
       "'07f9ae88-c296-4607-aa15-5e51556a7e78'"
      ]
     },
     "execution_count": 30,
     "metadata": {},
     "output_type": "execute_result"
    }
   ],
   "source": [
    "res = requests.get('http://localhost:8000/v1/index/simple_start_task/')\n",
    "res.json()"
   ]
  },
  {
   "cell_type": "code",
   "execution_count": 40,
   "metadata": {},
   "outputs": [
    {
     "data": {
      "text/plain": [
       "'Status of the Task SUCCESS'"
      ]
     },
     "execution_count": 40,
     "metadata": {},
     "output_type": "execute_result"
    }
   ],
   "source": [
    "res2 = requests.get(f'http://localhost:8000/v1/index/task_status/{res.json()}')\n",
    "res2.json()"
   ]
  },
  {
   "cell_type": "code",
   "execution_count": 4,
   "metadata": {},
   "outputs": [
    {
     "data": {
      "text/plain": [
       "{'detail': 'Not Found'}"
      ]
     },
     "execution_count": 4,
     "metadata": {},
     "output_type": "execute_result"
    }
   ],
   "source": [
    "res2 = requests.get(f'http://localhost:8000/v1/index/simple_task_result/{res.json()}')\n",
    "res2.json()"
   ]
  },
  {
   "cell_type": "code",
   "execution_count": null,
   "metadata": {},
   "outputs": [],
   "source": [
    "from PIL import Image\n",
    "\n",
    "# Caminho para a imagem\n",
    "caminho_da_imagem = \"//wsl.localhost/Ubuntu/home/maodsunix/cytomine/data/images/72728//1697403996824/2007PC0094AD_pyr.tif\"\n",
    "\n",
    "# Carregando a imagem\n",
    "imagem = Image.open(caminho_da_imagem)\n",
    "\n",
    "# Para exibir a imagem\n",
    "imagem.show()"
   ]
  },
  {
   "cell_type": "code",
   "execution_count": null,
   "metadata": {},
   "outputs": [],
   "source": [
    "import json\n",
    "\n",
    "caminho_do_arquivo_json = \"./images.json\"\n",
    "\n",
    "# Abrir o arquivo JSON e carregá-lo\n",
    "with open(caminho_do_arquivo_json, 'r') as arquivo_json:\n",
    "    dados = json.load(arquivo_json)"
   ]
  },
  {
   "cell_type": "code",
   "execution_count": 5,
   "metadata": {},
   "outputs": [],
   "source": []
  },
  {
   "cell_type": "code",
   "execution_count": 2,
   "metadata": {},
   "outputs": [
    {
     "name": "stdout",
     "output_type": "stream",
     "text": [
      "Loaded pretrained weights for efficientnet-b0\n",
      "model loaded\n",
      "Loaded pretrained weights for efficientnet-b0\n",
      "model loaded\n",
      "Loaded pretrained weights for efficientnet-b0\n",
      "model loaded\n",
      "Loaded pretrained weights for efficientnet-b0\n",
      "model loaded\n",
      "Loaded pretrained weights for efficientnet-b0\n",
      "model loaded\n",
      "Loaded pretrained weights for efficientnet-b0\n",
      "model loaded\n"
     ]
    }
   ],
   "source": [
    "import sys\n",
    "sys.path.append('C:/Users/Maods/Documents/Development/Mestrado/terumo/apps/terumo-core/celery_index_worker')\n",
    "sys.path.append('C:/Users/Maods/Documents/Development/Mestrado/terumo/apps/terumo-core/celery_index_worker/binary_models')\n",
    "\n",
    "\n",
    "from cytomine import Cytomine\n",
    "from cytomine.models import ImageInstanceCollection\n",
    "from binary_models.binary_extractor_imp import extract\n",
    "\n",
    "# from pymilvus import connections\n",
    "# from pymilvus import FieldSchema, DataType\n",
    "# from pymilvus import connections, CollectionSchema, Collection, utility\n",
    "\n"
   ]
  },
  {
   "cell_type": "code",
   "execution_count": 105,
   "metadata": {},
   "outputs": [
    {
     "ename": "MilvusException",
     "evalue": "<MilvusException: (code=2, message=Fail connecting to server on localhost:19530. Timeout)>",
     "output_type": "error",
     "traceback": [
      "\u001b[1;31m---------------------------------------------------------------------------\u001b[0m",
      "\u001b[1;31mFutureTimeoutError\u001b[0m                        Traceback (most recent call last)",
      "File \u001b[1;32mc:\\Users\\Maods\\.virtualenvs\\terumo-service-search-monolith-tK6ZlZEC\\lib\\site-packages\\pymilvus\\client\\grpc_handler.py:131\u001b[0m, in \u001b[0;36mGrpcHandler._wait_for_channel_ready\u001b[1;34m(self, timeout)\u001b[0m\n\u001b[0;32m    130\u001b[0m \u001b[39mtry\u001b[39;00m:\n\u001b[1;32m--> 131\u001b[0m     grpc\u001b[39m.\u001b[39;49mchannel_ready_future(\u001b[39mself\u001b[39;49m\u001b[39m.\u001b[39;49m_channel)\u001b[39m.\u001b[39;49mresult(timeout\u001b[39m=\u001b[39;49mtimeout)\n\u001b[0;32m    132\u001b[0m     \u001b[39mself\u001b[39m\u001b[39m.\u001b[39m_setup_identifier_interceptor(\u001b[39mself\u001b[39m\u001b[39m.\u001b[39m_user)\n",
      "File \u001b[1;32mc:\\Users\\Maods\\.virtualenvs\\terumo-service-search-monolith-tK6ZlZEC\\lib\\site-packages\\grpc\\_utilities.py:162\u001b[0m, in \u001b[0;36m_ChannelReadyFuture.result\u001b[1;34m(self, timeout)\u001b[0m\n\u001b[0;32m    161\u001b[0m \u001b[39mdef\u001b[39;00m \u001b[39mresult\u001b[39m(\u001b[39mself\u001b[39m, timeout: Optional[\u001b[39mfloat\u001b[39m] \u001b[39m=\u001b[39m \u001b[39mNone\u001b[39;00m) \u001b[39m-\u001b[39m\u001b[39m>\u001b[39m \u001b[39mNone\u001b[39;00m:\n\u001b[1;32m--> 162\u001b[0m     \u001b[39mself\u001b[39;49m\u001b[39m.\u001b[39;49m_block(timeout)\n",
      "File \u001b[1;32mc:\\Users\\Maods\\.virtualenvs\\terumo-service-search-monolith-tK6ZlZEC\\lib\\site-packages\\grpc\\_utilities.py:106\u001b[0m, in \u001b[0;36m_ChannelReadyFuture._block\u001b[1;34m(self, timeout)\u001b[0m\n\u001b[0;32m    105\u001b[0m \u001b[39mif\u001b[39;00m remaining \u001b[39m<\u001b[39m \u001b[39m0\u001b[39m:\n\u001b[1;32m--> 106\u001b[0m     \u001b[39mraise\u001b[39;00m grpc\u001b[39m.\u001b[39mFutureTimeoutError()\n\u001b[0;32m    107\u001b[0m \u001b[39melse\u001b[39;00m:\n",
      "\u001b[1;31mFutureTimeoutError\u001b[0m: ",
      "\nThe above exception was the direct cause of the following exception:\n",
      "\u001b[1;31mMilvusException\u001b[0m                           Traceback (most recent call last)",
      "\u001b[1;32mc:\\Users\\Maods\\Documents\\Development\\Mestrado\\terumo\\apps\\terumo-core\\celery_index_worker\\test_cytomine_funcs.ipynb Cell 27\u001b[0m line \u001b[0;36m1\n\u001b[1;32m----> <a href='vscode-notebook-cell:/c%3A/Users/Maods/Documents/Development/Mestrado/terumo/apps/terumo-core/celery_index_worker/test_cytomine_funcs.ipynb#X65sZmlsZQ%3D%3D?line=0'>1</a>\u001b[0m connections\u001b[39m.\u001b[39;49mconnect(\n\u001b[0;32m      <a href='vscode-notebook-cell:/c%3A/Users/Maods/Documents/Development/Mestrado/terumo/apps/terumo-core/celery_index_worker/test_cytomine_funcs.ipynb#X65sZmlsZQ%3D%3D?line=1'>2</a>\u001b[0m   alias\u001b[39m=\u001b[39;49m\u001b[39m\"\u001b[39;49m\u001b[39mdefault\u001b[39;49m\u001b[39m\"\u001b[39;49m,\n\u001b[0;32m      <a href='vscode-notebook-cell:/c%3A/Users/Maods/Documents/Development/Mestrado/terumo/apps/terumo-core/celery_index_worker/test_cytomine_funcs.ipynb#X65sZmlsZQ%3D%3D?line=2'>3</a>\u001b[0m   user\u001b[39m=\u001b[39;49m\u001b[39m'\u001b[39;49m\u001b[39musername\u001b[39;49m\u001b[39m'\u001b[39;49m,\n\u001b[0;32m      <a href='vscode-notebook-cell:/c%3A/Users/Maods/Documents/Development/Mestrado/terumo/apps/terumo-core/celery_index_worker/test_cytomine_funcs.ipynb#X65sZmlsZQ%3D%3D?line=3'>4</a>\u001b[0m   password\u001b[39m=\u001b[39;49m\u001b[39m'\u001b[39;49m\u001b[39mpassword\u001b[39;49m\u001b[39m'\u001b[39;49m,\n\u001b[0;32m      <a href='vscode-notebook-cell:/c%3A/Users/Maods/Documents/Development/Mestrado/terumo/apps/terumo-core/celery_index_worker/test_cytomine_funcs.ipynb#X65sZmlsZQ%3D%3D?line=4'>5</a>\u001b[0m   host\u001b[39m=\u001b[39;49m\u001b[39m'\u001b[39;49m\u001b[39mlocalhost\u001b[39;49m\u001b[39m'\u001b[39;49m,\n\u001b[0;32m      <a href='vscode-notebook-cell:/c%3A/Users/Maods/Documents/Development/Mestrado/terumo/apps/terumo-core/celery_index_worker/test_cytomine_funcs.ipynb#X65sZmlsZQ%3D%3D?line=5'>6</a>\u001b[0m   port\u001b[39m=\u001b[39;49m\u001b[39m'\u001b[39;49m\u001b[39m19530\u001b[39;49m\u001b[39m'\u001b[39;49m\n\u001b[0;32m      <a href='vscode-notebook-cell:/c%3A/Users/Maods/Documents/Development/Mestrado/terumo/apps/terumo-core/celery_index_worker/test_cytomine_funcs.ipynb#X65sZmlsZQ%3D%3D?line=6'>7</a>\u001b[0m )\n",
      "File \u001b[1;32mc:\\Users\\Maods\\.virtualenvs\\terumo-service-search-monolith-tK6ZlZEC\\lib\\site-packages\\pymilvus\\orm\\connections.py:355\u001b[0m, in \u001b[0;36mConnections.connect\u001b[1;34m(self, alias, user, password, db_name, token, **kwargs)\u001b[0m\n\u001b[0;32m    352\u001b[0m         \u001b[39mif\u001b[39;00m parsed_uri\u001b[39m.\u001b[39mscheme \u001b[39m==\u001b[39m \u001b[39m\"\u001b[39m\u001b[39mhttps\u001b[39m\u001b[39m\"\u001b[39m:\n\u001b[0;32m    353\u001b[0m             kwargs[\u001b[39m\"\u001b[39m\u001b[39msecure\u001b[39m\u001b[39m\"\u001b[39m] \u001b[39m=\u001b[39m \u001b[39mTrue\u001b[39;00m\n\u001b[1;32m--> 355\u001b[0m     connect_milvus(\u001b[39m*\u001b[39m\u001b[39m*\u001b[39mkwargs, user\u001b[39m=\u001b[39muser, password\u001b[39m=\u001b[39mpassword, token\u001b[39m=\u001b[39mtoken, db_name\u001b[39m=\u001b[39mdb_name)\n\u001b[0;32m    356\u001b[0m     \u001b[39mreturn\u001b[39;00m\n\u001b[0;32m    358\u001b[0m \u001b[39m# 2nd Priority, connection configs from env\u001b[39;00m\n",
      "File \u001b[1;32mc:\\Users\\Maods\\.virtualenvs\\terumo-service-search-monolith-tK6ZlZEC\\lib\\site-packages\\pymilvus\\orm\\connections.py:302\u001b[0m, in \u001b[0;36mConnections.connect.<locals>.connect_milvus\u001b[1;34m(**kwargs)\u001b[0m\n\u001b[0;32m    299\u001b[0m t \u001b[39m=\u001b[39m kwargs\u001b[39m.\u001b[39mget(\u001b[39m\"\u001b[39m\u001b[39mtimeout\u001b[39m\u001b[39m\"\u001b[39m)\n\u001b[0;32m    300\u001b[0m timeout \u001b[39m=\u001b[39m t \u001b[39mif\u001b[39;00m \u001b[39misinstance\u001b[39m(t, (\u001b[39mint\u001b[39m, \u001b[39mfloat\u001b[39m)) \u001b[39melse\u001b[39;00m Config\u001b[39m.\u001b[39mMILVUS_CONN_TIMEOUT\n\u001b[1;32m--> 302\u001b[0m gh\u001b[39m.\u001b[39;49m_wait_for_channel_ready(timeout\u001b[39m=\u001b[39;49mtimeout)\n\u001b[0;32m    303\u001b[0m kwargs\u001b[39m.\u001b[39mpop(\u001b[39m\"\u001b[39m\u001b[39mpassword\u001b[39m\u001b[39m\"\u001b[39m)\n\u001b[0;32m    304\u001b[0m kwargs\u001b[39m.\u001b[39mpop(\u001b[39m\"\u001b[39m\u001b[39mtoken\u001b[39m\u001b[39m\"\u001b[39m, \u001b[39mNone\u001b[39;00m)\n",
      "File \u001b[1;32mc:\\Users\\Maods\\.virtualenvs\\terumo-service-search-monolith-tK6ZlZEC\\lib\\site-packages\\pymilvus\\client\\grpc_handler.py:134\u001b[0m, in \u001b[0;36mGrpcHandler._wait_for_channel_ready\u001b[1;34m(self, timeout)\u001b[0m\n\u001b[0;32m    132\u001b[0m     \u001b[39mself\u001b[39m\u001b[39m.\u001b[39m_setup_identifier_interceptor(\u001b[39mself\u001b[39m\u001b[39m.\u001b[39m_user)\n\u001b[0;32m    133\u001b[0m \u001b[39mexcept\u001b[39;00m grpc\u001b[39m.\u001b[39mFutureTimeoutError \u001b[39mas\u001b[39;00m e:\n\u001b[1;32m--> 134\u001b[0m     \u001b[39mraise\u001b[39;00m MilvusException(\n\u001b[0;32m    135\u001b[0m         code\u001b[39m=\u001b[39mStatus\u001b[39m.\u001b[39mCONNECT_FAILED,\n\u001b[0;32m    136\u001b[0m         message\u001b[39m=\u001b[39m\u001b[39mf\u001b[39m\u001b[39m\"\u001b[39m\u001b[39mFail connecting to server on \u001b[39m\u001b[39m{\u001b[39;00m\u001b[39mself\u001b[39m\u001b[39m.\u001b[39m_address\u001b[39m}\u001b[39;00m\u001b[39m. Timeout\u001b[39m\u001b[39m\"\u001b[39m,\n\u001b[0;32m    137\u001b[0m     ) \u001b[39mfrom\u001b[39;00m \u001b[39me\u001b[39;00m\n\u001b[0;32m    138\u001b[0m \u001b[39mexcept\u001b[39;00m \u001b[39mException\u001b[39;00m \u001b[39mas\u001b[39;00m e:\n\u001b[0;32m    139\u001b[0m     \u001b[39mraise\u001b[39;00m e \u001b[39mfrom\u001b[39;00m \u001b[39me\u001b[39;00m\n",
      "\u001b[1;31mMilvusException\u001b[0m: <MilvusException: (code=2, message=Fail connecting to server on localhost:19530. Timeout)>"
     ]
    }
   ],
   "source": [
    "connections.connect(\n",
    "  alias=\"default\",\n",
    "  user='username',\n",
    "  password='password',\n",
    "  host='localhost',\n",
    "  port='19530'\n",
    ")\n"
   ]
  },
  {
   "cell_type": "code",
   "execution_count": null,
   "metadata": {},
   "outputs": [],
   "source": [
    "\n",
    "\n",
    "\n",
    "vector_dimension=6\n",
    "vector_id = FieldSchema(name=\"vector_id\", dtype=DataType.INT64, descrition=\"int64\", is_primary=True)\n",
    "vector = FieldSchema(name=\"vector\", dtype=DataType.FLOAT_VECTOR, descrition=\"semantic vector\",\n",
    "                            dim=vector_dimension)\n",
    "\n",
    "schema = CollectionSchema(fields=[vector_id, vector], description='collection_description',   enable_dynamic_field=True)\n",
    "collection = Collection(name='test6', schema=schema)  "
   ]
  },
  {
   "cell_type": "code",
   "execution_count": 3,
   "metadata": {},
   "outputs": [
    {
     "name": "stdout",
     "output_type": "stream",
     "text": [
      "[2023-11-15 14:50:07,586][INFO] [GET] /server/ping | 200 OK\n"
     ]
    },
    {
     "name": "stdout",
     "output_type": "stream",
     "text": [
      "[2023-11-15 14:50:07,619][INFO] [GET] [currentuser] CURRENT USER - 72728 : terumo_admin_user | 200 OK\n",
      "[2023-11-15 14:50:07,824][INFO] [GET] [imageinstance collection] 62 objects | 200 OK\n",
      "62\n",
      "/1697403999126/2007PC1317AI_pyr.tif\n",
      "/1697403999202/PC2108-03w_pyr.tif\n",
      "/1697403999513/PC2684-03ag_pyr.tif\n",
      "/1697403999479/PRO2006PS1936AA_pyr.tif\n",
      "/1697403999464/2007PC1810AC_pyr.tif\n",
      "/1697403999735/PRO2012PS0074AAN_pyr.tif\n",
      "/1697403999751/PRO2013PS0230AAQ_pyr.tif\n",
      "/1697403999857/PRO2012PS0074AAW_pyr.tif\n",
      "/1697403999866/PRO2013PS0230AAA_pyr.tif\n",
      "/1697403999754/2008PC0018AD_pyr.tif\n",
      "/1697404000344/PROPS0542-03y_pyr.tif\n",
      "/1697404000337/2007PC1810AH_pyr.tif\n",
      "/1697403999752/2007PC1359AA_pyr.tif\n",
      "/1697404000253/PRO2014PS0085AAJ_pyr.tif\n",
      "/1697404000220/PRO2013PS0836AAM_pyr.tif\n",
      "/1697404000369/PRO2014PS0085AAE_pyr.tif\n",
      "/1697404000160/PRO2013PS0836AAD_pyr.tif\n",
      "/1697404000633/2008PC0834AM_pyr.tif\n",
      "/1697404000668/2008PC0834AN_pyr.tif\n",
      "/1697404000711/2008PC0203AP_pyr.tif\n",
      "/1697403998317/2009PC1266AM_pyr.tif\n",
      "/1697403998056/2009PC1266AK_pyr.tif\n",
      "/1697403998437/2010PC0464AAZ_pyr.tif\n",
      "/1697403998783/2010PC0946AAW_pyr.tif\n",
      "/1697403998269/2007PC0247AF_pyr.tif\n",
      "/1697403998460/2010PC0946AAK_pyr.tif\n",
      "/1697403998291/2010PC0464AAM_pyr.tif\n",
      "/1697403998315/2010PC0246AC_pyr.tif\n",
      "/1697403998513/2010PC0946AAL_pyr.tif\n",
      "/1697403998754/2010PC0946AAS_pyr.tif\n",
      "/1697403998956/2007PC0501AD_pyr.tif\n",
      "/1697403998723/2010PC0946AAN_pyr.tif\n",
      "/1697403998854/PC1280-03l_pyr.tif\n",
      "/1697403998904/PC1327-03h_pyr.tif\n",
      "/1697403999455/PRO2006PS1870AD_pyr.tif\n",
      "/1697403999516/PRO2012PS0074AAL_pyr.tif\n",
      "/1697403999059/PC1327-03i_pyr.tif\n",
      "/1697403997203/2007PC0094AE_pyr.tif\n",
      "/1697403997451/2009PC0459AM_pyr.tif\n",
      "/1697403997447/2009PC0575AE_pyr.tif\n",
      "/1697403997471/2007PC0094AG_pyr.tif\n",
      "/1697403997580/2009PC0459AJ_pyr.tif\n",
      "/1697403997470/2009PC0459AU_pyr.tif\n",
      "/1697403997737/2009PC1043AR_pyr.tif\n",
      "/1697403997905/2009PC1266AE_pyr.tif\n",
      "/1697403997905/2009PC1259AE_pyr.tif\n",
      "/1697403997925/2009PC1259AF_pyr.tif\n",
      "/1697403997523/2009PC1259AD_pyr.tif\n",
      "/1697403998131/2007PC0247AD_pyr.tif\n",
      "/1697403997861/2007PC0102AL_pyr.tif\n",
      "/1697403997905/2009PC1266AB_pyr.tif\n",
      "/1697403997203/2009PC0459AE_pyr.tif\n",
      "/1697403997079/2009PC0278AH_pyr.tif\n",
      "/1697403997151/2009PC0459AG_pyr.tif\n",
      "/1697403997091/2009PC0278AC_pyr.tif\n",
      "/1697403997092/2006PC1794AI_pyr.tif\n",
      "/1697403996823/2006PC1617AU_pyr.tif\n",
      "/1697403996824/2008PC0863AC_pyr.tif\n",
      "/1697403996824/2008PC1031AW_pyr.tif\n",
      "/1697403996824/2009PC0278AX_pyr.tif\n",
      "/1697403996824/2007PC0094AD_pyr.tif\n",
      "/1697403996824/2008PC1053AH_pyr.tif\n"
     ]
    }
   ],
   "source": [
    "project_number = 73025\n",
    "\n",
    "\n",
    "#terumo_admin\n",
    "_public_key = 'e4c84130-d5d4-41bd-8db0-0384339f31c2'\n",
    "_private_key = '98a22af6-17de-491a-88d3-3e798ada03fb'\n",
    "\n",
    "_host = 'http://maods.homelab.core'\n",
    "\n",
    "\n",
    "with Cytomine(host=_host, public_key=_public_key, private_key=_private_key) as cytomine:\n",
    "\n",
    "    images = ImageInstanceCollection().fetch_with_filter(\"project\", project_number)\n",
    "\n",
    "file_storage = './file_storage'\n",
    "file_storage = '//wsl.localhost/Ubuntu/home/maodsunix/cytomine/data/images'\n",
    "matrix = []\n",
    "image_ids = []\n",
    "dados = images.data()\n",
    "print(len(dados))\n",
    "for img in dados:\n",
    "    file_location = f\"{file_storage}/{img.user}/{img.filename}\"\n",
    "    vector, _ = extract(file_location)\n",
    "    matrix.append(vector)\n",
    "    image_ids.append(img.id)\n",
    "    print(img.filename)\n",
    "\n",
    "matriz_float = [[float(element) for element in row] for row in matrix]\n",
    "\n",
    "# data = [\n",
    "#     image_ids,\n",
    "#     matriz_float\n",
    "# ]\n",
    "\n",
    "# collection = Collection(\"test6\")      # Get an existing collection.\n",
    "# mr = collection.insert(data)"
   ]
  },
  {
   "cell_type": "code",
   "execution_count": 48,
   "metadata": {},
   "outputs": [
    {
     "data": {
      "text/plain": [
       "'[{\"id\": 76582, \"created\": \"1697404003001\", \"baseImage\": 75386, \"project\": 73025, \"user\": 72728, \"originalFilename\": \"2007PC1317AI.jpg\", \"instanceFilename\": \"2007PC1317AI.jpg\", \"path\": \"/1697403999126/2007PC1317AI_pyr.tif\", \"width\": 1024, \"height\": 768, \"depth\": 2, \"thumb\": \"http://maods.homelab.core/api/abstractimage/75386/thumb.png?maxSize=512\", \"preview\": \"http://maods.homelab.core/api/abstractimage/75386/thumb.png?maxSize=1024\", \"numberOfAnnotations\": 0, \"numberOfJobAnnotations\": 0, \"numberOfReviewedAnnotations\": 0, \"reviewed\": false, \"class_\": \"be.cytomine.image.ImageInstance\", \"filename\": \"/1697403999126/2007PC1317AI_pyr.tif\", \"extension\": \"tif\", \"sample\": 75385, \"mime\": \"image/pyrtiff\", \"fullPath\": \"/home/maodsunix/cytomine/data/images/72728//1697403999126/2007PC1317AI_pyr.tif\", \"inReview\": false},{\"id\": 76563, \"created\": \"1697404002963\", \"baseImage\": 75392, \"project\": 73025, \"user\": 72728, \"originalFilename\": \"PC2108-03w.jpg\", \"instanceFilename\": \"PC2108-03w.jpg\", \"path\": \"/1697403999202/PC2108-03w_pyr.tif\", \"width\": 572, \"height\": 496, \"depth\": 2, \"thumb\": \"http://maods.homelab.core/api/abstractimage/75392/thumb.png?maxSize=512\", \"preview\": \"http://maods.homelab.core/api/abstractimage/75392/thumb.png?maxSize=1024\", \"numberOfAnnotations\": 0, \"numberOfJobAnnotations\": 0, \"numberOfReviewedAnnotations\": 0, \"reviewed\": false, \"class_\": \"be.cytomine.image.ImageInstance\", \"filename\": \"/1697403999202/PC2108-03w_pyr.tif\", \"extension\": \"tif\", \"sample\": 75389, \"mime\": \"image/pyrtiff\", \"fullPath\": \"/home/maodsunix/cytomine/data/images/72728//1697403999202/PC2108-03w_pyr.tif\", \"inReview\": false},{\"id\": 76541, \"created\": \"1697404002926\", \"baseImage\": 75452, \"project\": 73025, \"user\": 72728, \"originalFilename\": \"PC2684-03ag.jpg\", \"instanceFilename\": \"PC2684-03ag.jpg\", \"path\": \"/1697403999513/PC2684-03ag_pyr.tif\", \"width\": 632, \"height\": 472, \"depth\": 2, \"thumb\": \"http://maods.homelab.core/api/abstractimage/75452/thumb.png?maxSize=512\", \"preview\": \"http://maods.homelab.core/api/abstractimage/75452/thumb.png?maxSize=1024\", \"numberOfAnnotations\": 0, \"numberOfJobAnnotations\": 0, \"numberOfReviewedAnnotations\": 0, \"reviewed\": false, \"class_\": \"be.cytomine.image.ImageInstance\", \"filename\": \"/1697403999513/PC2684-03ag_pyr.tif\", \"extension\": \"tif\", \"sample\": 75446, \"mime\": \"image/pyrtiff\", \"fullPath\": \"/home/maodsunix/cytomine/data/images/72728//1697403999513/PC2684-03ag_pyr.tif\", \"inReview\": false},{\"id\": 76532, \"created\": \"1697404002866\", \"baseImage\": 75391, \"project\": 73025, \"user\": 72728, \"originalFilename\": \"PRO2006PS1936AA.jpg\", \"instanceFilename\": \"PRO2006PS1936AA.jpg\", \"path\": \"/1697403999479/PRO2006PS1936AA_pyr.tif\", \"width\": 1024, \"height\": 768, \"depth\": 2, \"thumb\": \"http://maods.homelab.core/api/abstractimage/75391/thumb.png?maxSize=512\", \"preview\": \"http://maods.homelab.core/api/abstractimage/75391/thumb.png?maxSize=1024\", \"numberOfAnnotations\": 0, \"numberOfJobAnnotations\": 0, \"numberOfReviewedAnnotations\": 0, \"reviewed\": false, \"class_\": \"be.cytomine.image.ImageInstance\", \"filename\": \"/1697403999479/PRO2006PS1936AA_pyr.tif\", \"extension\": \"tif\", \"sample\": 75388, \"mime\": \"image/pyrtiff\", \"fullPath\": \"/home/maodsunix/cytomine/data/images/72728//1697403999479/PRO2006PS1936AA_pyr.tif\", \"inReview\": false},{\"id\": 76513, \"created\": \"1697404002832\", \"baseImage\": 75393, \"project\": 73025, \"user\": 72728, \"originalFilename\": \"2007PC1810AC.jpg\", \"instanceFilename\": \"2007PC1810AC.jpg\", \"path\": \"/1697403999464/2007PC1810AC_pyr.tif\", \"width\": 1024, \"height\": 768, \"depth\": 2, \"thumb\": \"http://maods.homelab.core/api/abstractimage/75393/thumb.png?maxSize=512\", \"preview\": \"http://maods.homelab.core/api/abstractimage/75393/thumb.png?maxSize=1024\", \"numberOfAnnotations\": 0, \"numberOfJobAnnotations\": 0, \"numberOfReviewedAnnotations\": 0, \"reviewed\": false, \"class_\": \"be.cytomine.image.ImageInstance\", \"filename\": \"/1697403999464/2007PC1810AC_pyr.tif\", \"extension\": \"tif\", \"sample\": 75390, \"mime\": \"image/pyrtiff\", \"fullPath\": \"/home/maodsunix/cytomine/data/images/72728//1697403999464/2007PC1810AC_pyr.tif\", \"inReview\": false},{\"id\": 76505, \"created\": \"1697404002804\", \"baseImage\": 75650, \"project\": 73025, \"user\": 72728, \"originalFilename\": \"PRO2012PS0074AAN.jpg\", \"instanceFilename\": \"PRO2012PS0074AAN.jpg\", \"path\": \"/1697403999735/PRO2012PS0074AAN_pyr.tif\", \"width\": 1024, \"height\": 768, \"depth\": 2, \"thumb\": \"http://maods.homelab.core/api/abstractimage/75650/thumb.png?maxSize=512\", \"preview\": \"http://maods.homelab.core/api/abstractimage/75650/thumb.png?maxSize=1024\", \"numberOfAnnotations\": 0, \"numberOfJobAnnotations\": 0, \"numberOfReviewedAnnotations\": 0, \"reviewed\": false, \"class_\": \"be.cytomine.image.ImageInstance\", \"filename\": \"/1697403999735/PRO2012PS0074AAN_pyr.tif\", \"extension\": \"tif\", \"sample\": 75630, \"mime\": \"image/pyrtiff\", \"fullPath\": \"/home/maodsunix/cytomine/data/images/72728//1697403999735/PRO2012PS0074AAN_pyr.tif\", \"inReview\": false},{\"id\": 76484, \"created\": \"1697404002773\", \"baseImage\": 75713, \"project\": 73025, \"user\": 72728, \"originalFilename\": \"PRO2013PS0230AAQ.jpg\", \"instanceFilename\": \"PRO2013PS0230AAQ.jpg\", \"path\": \"/1697403999751/PRO2013PS0230AAQ_pyr.tif\", \"width\": 1024, \"height\": 768, \"depth\": 2, \"thumb\": \"http://maods.homelab.core/api/abstractimage/75713/thumb.png?maxSize=512\", \"preview\": \"http://maods.homelab.core/api/abstractimage/75713/thumb.png?maxSize=1024\", \"numberOfAnnotations\": 0, \"numberOfJobAnnotations\": 0, \"numberOfReviewedAnnotations\": 0, \"reviewed\": false, \"class_\": \"be.cytomine.image.ImageInstance\", \"filename\": \"/1697403999751/PRO2013PS0230AAQ_pyr.tif\", \"extension\": \"tif\", \"sample\": 75712, \"mime\": \"image/pyrtiff\", \"fullPath\": \"/home/maodsunix/cytomine/data/images/72728//1697403999751/PRO2013PS0230AAQ_pyr.tif\", \"inReview\": false},{\"id\": 76470, \"created\": \"1697404002744\", \"baseImage\": 75762, \"project\": 73025, \"user\": 72728, \"originalFilename\": \"PRO2012PS0074AAW.jpg\", \"instanceFilename\": \"PRO2012PS0074AAW.jpg\", \"path\": \"/1697403999857/PRO2012PS0074AAW_pyr.tif\", \"width\": 1024, \"height\": 768, \"depth\": 2, \"thumb\": \"http://maods.homelab.core/api/abstractimage/75762/thumb.png?maxSize=512\", \"preview\": \"http://maods.homelab.core/api/abstractimage/75762/thumb.png?maxSize=1024\", \"numberOfAnnotations\": 0, \"numberOfJobAnnotations\": 0, \"numberOfReviewedAnnotations\": 0, \"reviewed\": false, \"class_\": \"be.cytomine.image.ImageInstance\", \"filename\": \"/1697403999857/PRO2012PS0074AAW_pyr.tif\", \"extension\": \"tif\", \"sample\": 75738, \"mime\": \"image/pyrtiff\", \"fullPath\": \"/home/maodsunix/cytomine/data/images/72728//1697403999857/PRO2012PS0074AAW_pyr.tif\", \"inReview\": false},{\"id\": 76458, \"created\": \"1697404002710\", \"baseImage\": 75839, \"project\": 73025, \"user\": 72728, \"originalFilename\": \"PRO2013PS0230AAA.jpg\", \"instanceFilename\": \"PRO2013PS0230AAA.jpg\", \"path\": \"/1697403999866/PRO2013PS0230AAA_pyr.tif\", \"width\": 1024, \"height\": 768, \"depth\": 2, \"thumb\": \"http://maods.homelab.core/api/abstractimage/75839/thumb.png?maxSize=512\", \"preview\": \"http://maods.homelab.core/api/abstractimage/75839/thumb.png?maxSize=1024\", \"numberOfAnnotations\": 0, \"numberOfJobAnnotations\": 0, \"numberOfReviewedAnnotations\": 0, \"reviewed\": false, \"class_\": \"be.cytomine.image.ImageInstance\", \"filename\": \"/1697403999866/PRO2013PS0230AAA_pyr.tif\", \"extension\": \"tif\", \"sample\": 75837, \"mime\": \"image/pyrtiff\", \"fullPath\": \"/home/maodsunix/cytomine/data/images/72728//1697403999866/PRO2013PS0230AAA_pyr.tif\", \"inReview\": false},{\"id\": 76443, \"created\": \"1697404002681\", \"baseImage\": 75828, \"project\": 73025, \"user\": 72728, \"originalFilename\": \"2008PC0018AD.jpg\", \"instanceFilename\": \"2008PC0018AD.jpg\", \"path\": \"/1697403999754/2008PC0018AD_pyr.tif\", \"width\": 1024, \"height\": 768, \"depth\": 2, \"thumb\": \"http://maods.homelab.core/api/abstractimage/75828/thumb.png?maxSize=512\", \"preview\": \"http://maods.homelab.core/api/abstractimage/75828/thumb.png?maxSize=1024\", \"numberOfAnnotations\": 0, \"numberOfJobAnnotations\": 0, \"numberOfReviewedAnnotations\": 0, \"reviewed\": false, \"class_\": \"be.cytomine.image.ImageInstance\", \"filename\": \"/1697403999754/2008PC0018AD_pyr.tif\", \"extension\": \"tif\", \"sample\": 75822, \"mime\": \"image/pyrtiff\", \"fullPath\": \"/home/maodsunix/cytomine/data/images/72728//1697403999754/2008PC0018AD_pyr.tif\", \"inReview\": false},{\"id\": 76425, \"created\": \"1697404002640\", \"baseImage\": 75944, \"project\": 73025, \"user\": 72728, \"originalFilename\": \"PROPS0542-03y.jpg\", \"instanceFilename\": \"PROPS0542-03y.jpg\", \"path\": \"/1697404000344/PROPS0542-03y_pyr.tif\", \"width\": 283, \"height\": 294, \"depth\": 1, \"thumb\": \"http://maods.homelab.core/api/abstractimage/75944/thumb.png?maxSize=512\", \"preview\": \"http://maods.homelab.core/api/abstractimage/75944/thumb.png?maxSize=1024\", \"numberOfAnnotations\": 0, \"numberOfJobAnnotations\": 0, \"numberOfReviewedAnnotations\": 0, \"reviewed\": false, \"class_\": \"be.cytomine.image.ImageInstance\", \"filename\": \"/1697404000344/PROPS0542-03y_pyr.tif\", \"extension\": \"tif\", \"sample\": 75937, \"mime\": \"image/pyrtiff\", \"fullPath\": \"/home/maodsunix/cytomine/data/images/72728//1697404000344/PROPS0542-03y_pyr.tif\", \"inReview\": false},{\"id\": 76404, \"created\": \"1697404002609\", \"baseImage\": 75876, \"project\": 73025, \"user\": 72728, \"originalFilename\": \"2007PC1810AH.jpg\", \"instanceFilename\": \"2007PC1810AH.jpg\", \"path\": \"/1697404000337/2007PC1810AH_pyr.tif\", \"width\": 1024, \"height\": 768, \"depth\": 2, \"thumb\": \"http://maods.homelab.core/api/abstractimage/75876/thumb.png?maxSize=512\", \"preview\": \"http://maods.homelab.core/api/abstractimage/75876/thumb.png?maxSize=1024\", \"numberOfAnnotations\": 0, \"numberOfJobAnnotations\": 0, \"numberOfReviewedAnnotations\": 0, \"reviewed\": false, \"class_\": \"be.cytomine.image.ImageInstance\", \"filename\": \"/1697404000337/2007PC1810AH_pyr.tif\", \"extension\": \"tif\", \"sample\": 75861, \"mime\": \"image/pyrtiff\", \"fullPath\": \"/home/maodsunix/cytomine/data/images/72728//1697404000337/2007PC1810AH_pyr.tif\", \"inReview\": false},{\"id\": 76388, \"created\": \"1697404002571\", \"baseImage\": 75916, \"project\": 73025, \"user\": 72728, \"originalFilename\": \"2007PC1359AA.jpg\", \"instanceFilename\": \"2007PC1359AA.jpg\", \"path\": \"/1697403999752/2007PC1359AA_pyr.tif\", \"width\": 1024, \"height\": 768, \"depth\": 2, \"thumb\": \"http://maods.homelab.core/api/abstractimage/75916/thumb.png?maxSize=512\", \"preview\": \"http://maods.homelab.core/api/abstractimage/75916/thumb.png?maxSize=1024\", \"numberOfAnnotations\": 0, \"numberOfJobAnnotations\": 0, \"numberOfReviewedAnnotations\": 0, \"reviewed\": false, \"class_\": \"be.cytomine.image.ImageInstance\", \"filename\": \"/1697403999752/2007PC1359AA_pyr.tif\", \"extension\": \"tif\", \"sample\": 75911, \"mime\": \"image/pyrtiff\", \"fullPath\": \"/home/maodsunix/cytomine/data/images/72728//1697403999752/2007PC1359AA_pyr.tif\", \"inReview\": false},{\"id\": 76372, \"created\": \"1697404002202\", \"baseImage\": 76010, \"project\": 73025, \"user\": 72728, \"originalFilename\": \"PRO2014PS0085AAJ.jpg\", \"instanceFilename\": \"PRO2014PS0085AAJ.jpg\", \"path\": \"/1697404000253/PRO2014PS0085AAJ_pyr.tif\", \"width\": 1024, \"height\": 768, \"depth\": 2, \"thumb\": \"http://maods.homelab.core/api/abstractimage/76010/thumb.png?maxSize=512\", \"preview\": \"http://maods.homelab.core/api/abstractimage/76010/thumb.png?maxSize=1024\", \"numberOfAnnotations\": 0, \"numberOfJobAnnotations\": 0, \"numberOfReviewedAnnotations\": 0, \"reviewed\": false, \"class_\": \"be.cytomine.image.ImageInstance\", \"filename\": \"/1697404000253/PRO2014PS0085AAJ_pyr.tif\", \"extension\": \"tif\", \"sample\": 76006, \"mime\": \"image/pyrtiff\", \"fullPath\": \"/home/maodsunix/cytomine/data/images/72728//1697404000253/PRO2014PS0085AAJ_pyr.tif\", \"inReview\": false},{\"id\": 76360, \"created\": \"1697404002159\", \"baseImage\": 76029, \"project\": 73025, \"user\": 72728, \"originalFilename\": \"PRO2013PS0836AAM.jpg\", \"instanceFilename\": \"PRO2013PS0836AAM.jpg\", \"path\": \"/1697404000220/PRO2013PS0836AAM_pyr.tif\", \"width\": 1024, \"height\": 768, \"depth\": 2, \"thumb\": \"http://maods.homelab.core/api/abstractimage/76029/thumb.png?maxSize=512\", \"preview\": \"http://maods.homelab.core/api/abstractimage/76029/thumb.png?maxSize=1024\", \"numberOfAnnotations\": 0, \"numberOfJobAnnotations\": 0, \"numberOfReviewedAnnotations\": 0, \"reviewed\": false, \"class_\": \"be.cytomine.image.ImageInstance\", \"filename\": \"/1697404000220/PRO2013PS0836AAM_pyr.tif\", \"extension\": \"tif\", \"sample\": 76025, \"mime\": \"image/pyrtiff\", \"fullPath\": \"/home/maodsunix/cytomine/data/images/72728//1697404000220/PRO2013PS0836AAM_pyr.tif\", \"inReview\": false},{\"id\": 76345, \"created\": \"1697404002122\", \"baseImage\": 76037, \"project\": 73025, \"user\": 72728, \"originalFilename\": \"PRO2014PS0085AAE.jpg\", \"instanceFilename\": \"PRO2014PS0085AAE.jpg\", \"path\": \"/1697404000369/PRO2014PS0085AAE_pyr.tif\", \"width\": 1024, \"height\": 768, \"depth\": 2, \"thumb\": \"http://maods.homelab.core/api/abstractimage/76037/thumb.png?maxSize=512\", \"preview\": \"http://maods.homelab.core/api/abstractimage/76037/thumb.png?maxSize=1024\", \"numberOfAnnotations\": 0, \"numberOfJobAnnotations\": 0, \"numberOfReviewedAnnotations\": 0, \"reviewed\": false, \"class_\": \"be.cytomine.image.ImageInstance\", \"filename\": \"/1697404000369/PRO2014PS0085AAE_pyr.tif\", \"extension\": \"tif\", \"sample\": 76033, \"mime\": \"image/pyrtiff\", \"fullPath\": \"/home/maodsunix/cytomine/data/images/72728//1697404000369/PRO2014PS0085AAE_pyr.tif\", \"inReview\": false},{\"id\": 76329, \"created\": \"1697404002081\", \"baseImage\": 75993, \"project\": 73025, \"user\": 72728, \"originalFilename\": \"PRO2013PS0836AAD.jpg\", \"instanceFilename\": \"PRO2013PS0836AAD.jpg\", \"path\": \"/1697404000160/PRO2013PS0836AAD_pyr.tif\", \"width\": 1280, \"height\": 1024, \"depth\": 3, \"thumb\": \"http://maods.homelab.core/api/abstractimage/75993/thumb.png?maxSize=512\", \"preview\": \"http://maods.homelab.core/api/abstractimage/75993/thumb.png?maxSize=1024\", \"numberOfAnnotations\": 0, \"numberOfJobAnnotations\": 0, \"numberOfReviewedAnnotations\": 0, \"reviewed\": false, \"class_\": \"be.cytomine.image.ImageInstance\", \"filename\": \"/1697404000160/PRO2013PS0836AAD_pyr.tif\", \"extension\": \"tif\", \"sample\": 75985, \"mime\": \"image/pyrtiff\", \"fullPath\": \"/home/maodsunix/cytomine/data/images/72728//1697404000160/PRO2013PS0836AAD_pyr.tif\", \"inReview\": false},{\"id\": 76308, \"created\": \"1697404002040\", \"baseImage\": 76084, \"project\": 73025, \"user\": 72728, \"originalFilename\": \"2008PC0834AM.jpg\", \"instanceFilename\": \"2008PC0834AM.jpg\", \"path\": \"/1697404000633/2008PC0834AM_pyr.tif\", \"width\": 1024, \"height\": 768, \"depth\": 2, \"thumb\": \"http://maods.homelab.core/api/abstractimage/76084/thumb.png?maxSize=512\", \"preview\": \"http://maods.homelab.core/api/abstractimage/76084/thumb.png?maxSize=1024\", \"numberOfAnnotations\": 0, \"numberOfJobAnnotations\": 0, \"numberOfReviewedAnnotations\": 0, \"reviewed\": false, \"class_\": \"be.cytomine.image.ImageInstance\", \"filename\": \"/1697404000633/2008PC0834AM_pyr.tif\", \"extension\": \"tif\", \"sample\": 76082, \"mime\": \"image/pyrtiff\", \"fullPath\": \"/home/maodsunix/cytomine/data/images/72728//1697404000633/2008PC0834AM_pyr.tif\", \"inReview\": false},{\"id\": 76297, \"created\": \"1697404002010\", \"baseImage\": 76110, \"project\": 73025, \"user\": 72728, \"originalFilename\": \"2008PC0834AN.jpg\", \"instanceFilename\": \"2008PC0834AN.jpg\", \"path\": \"/1697404000668/2008PC0834AN_pyr.tif\", \"width\": 1024, \"height\": 768, \"depth\": 2, \"thumb\": \"http://maods.homelab.core/api/abstractimage/76110/thumb.png?maxSize=512\", \"preview\": \"http://maods.homelab.core/api/abstractimage/76110/thumb.png?maxSize=1024\", \"numberOfAnnotations\": 0, \"numberOfJobAnnotations\": 0, \"numberOfReviewedAnnotations\": 0, \"reviewed\": false, \"class_\": \"be.cytomine.image.ImageInstance\", \"filename\": \"/1697404000668/2008PC0834AN_pyr.tif\", \"extension\": \"tif\", \"sample\": 76097, \"mime\": \"image/pyrtiff\", \"fullPath\": \"/home/maodsunix/cytomine/data/images/72728//1697404000668/2008PC0834AN_pyr.tif\", \"inReview\": false},{\"id\": 76284, \"created\": \"1697404001976\", \"baseImage\": 76189, \"project\": 73025, \"user\": 72728, \"originalFilename\": \"2008PC0203AP.jpg\", \"instanceFilename\": \"2008PC0203AP.jpg\", \"path\": \"/1697404000711/2008PC0203AP_pyr.tif\", \"width\": 1024, \"height\": 768, \"depth\": 2, \"thumb\": \"http://maods.homelab.core/api/abstractimage/76189/thumb.png?maxSize=512\", \"preview\": \"http://maods.homelab.core/api/abstractimage/76189/thumb.png?maxSize=1024\", \"numberOfAnnotations\": 0, \"numberOfJobAnnotations\": 0, \"numberOfReviewedAnnotations\": 0, \"reviewed\": false, \"class_\": \"be.cytomine.image.ImageInstance\", \"filename\": \"/1697404000711/2008PC0203AP_pyr.tif\", \"extension\": \"tif\", \"sample\": 76187, \"mime\": \"image/pyrtiff\", \"fullPath\": \"/home/maodsunix/cytomine/data/images/72728//1697404000711/2008PC0203AP_pyr.tif\", \"inReview\": false},{\"id\": 76257, \"created\": \"1697404001908\", \"baseImage\": 74562, \"project\": 73025, \"user\": 72728, \"originalFilename\": \"2009PC1266AM.jpg\", \"instanceFilename\": \"2009PC1266AM.jpg\", \"path\": \"/1697403998317/2009PC1266AM_pyr.tif\", \"width\": 1024, \"height\": 768, \"depth\": 2, \"thumb\": \"http://maods.homelab.core/api/abstractimage/74562/thumb.png?maxSize=512\", \"preview\": \"http://maods.homelab.core/api/abstractimage/74562/thumb.png?maxSize=1024\", \"numberOfAnnotations\": 0, \"numberOfJobAnnotations\": 0, \"numberOfReviewedAnnotations\": 0, \"reviewed\": false, \"class_\": \"be.cytomine.image.ImageInstance\", \"filename\": \"/1697403998317/2009PC1266AM_pyr.tif\", \"extension\": \"tif\", \"sample\": 74561, \"mime\": \"image/pyrtiff\", \"fullPath\": \"/home/maodsunix/cytomine/data/images/72728//1697403998317/2009PC1266AM_pyr.tif\", \"inReview\": false},{\"id\": 76244, \"created\": \"1697404001857\", \"baseImage\": 74700, \"project\": 73025, \"user\": 72728, \"originalFilename\": \"2009PC1266AK.jpg\", \"instanceFilename\": \"2009PC1266AK.jpg\", \"path\": \"/1697403998056/2009PC1266AK_pyr.tif\", \"width\": 1024, \"height\": 768, \"depth\": 2, \"thumb\": \"http://maods.homelab.core/api/abstractimage/74700/thumb.png?maxSize=512\", \"preview\": \"http://maods.homelab.core/api/abstractimage/74700/thumb.png?maxSize=1024\", \"numberOfAnnotations\": 0, \"numberOfJobAnnotations\": 0, \"numberOfReviewedAnnotations\": 0, \"reviewed\": false, \"class_\": \"be.cytomine.image.ImageInstance\", \"filename\": \"/1697403998056/2009PC1266AK_pyr.tif\", \"extension\": \"tif\", \"sample\": 74699, \"mime\": \"image/pyrtiff\", \"fullPath\": \"/home/maodsunix/cytomine/data/images/72728//1697403998056/2009PC1266AK_pyr.tif\", \"inReview\": false},{\"id\": 76220, \"created\": \"1697404001787\", \"baseImage\": 74586, \"project\": 73025, \"user\": 72728, \"originalFilename\": \"2010PC0464AAZ.jpg\", \"instanceFilename\": \"2010PC0464AAZ.jpg\", \"path\": \"/1697403998437/2010PC0464AAZ_pyr.tif\", \"width\": 1024, \"height\": 768, \"depth\": 2, \"thumb\": \"http://maods.homelab.core/api/abstractimage/74586/thumb.png?maxSize=512\", \"preview\": \"http://maods.homelab.core/api/abstractimage/74586/thumb.png?maxSize=1024\", \"numberOfAnnotations\": 0, \"numberOfJobAnnotations\": 0, \"numberOfReviewedAnnotations\": 0, \"reviewed\": false, \"class_\": \"be.cytomine.image.ImageInstance\", \"filename\": \"/1697403998437/2010PC0464AAZ_pyr.tif\", \"extension\": \"tif\", \"sample\": 74574, \"mime\": \"image/pyrtiff\", \"fullPath\": \"/home/maodsunix/cytomine/data/images/72728//1697403998437/2010PC0464AAZ_pyr.tif\", \"inReview\": false},{\"id\": 76196, \"created\": \"1697404001738\", \"baseImage\": 74730, \"project\": 73025, \"user\": 72728, \"originalFilename\": \"2010PC0946AAW.jpg\", \"instanceFilename\": \"2010PC0946AAW.jpg\", \"path\": \"/1697403998783/2010PC0946AAW_pyr.tif\", \"width\": 1024, \"height\": 768, \"depth\": 2, \"thumb\": \"http://maods.homelab.core/api/abstractimage/74730/thumb.png?maxSize=512\", \"preview\": \"http://maods.homelab.core/api/abstractimage/74730/thumb.png?maxSize=1024\", \"numberOfAnnotations\": 0, \"numberOfJobAnnotations\": 0, \"numberOfReviewedAnnotations\": 0, \"reviewed\": false, \"class_\": \"be.cytomine.image.ImageInstance\", \"filename\": \"/1697403998783/2010PC0946AAW_pyr.tif\", \"extension\": \"tif\", \"sample\": 74725, \"mime\": \"image/pyrtiff\", \"fullPath\": \"/home/maodsunix/cytomine/data/images/72728//1697403998783/2010PC0946AAW_pyr.tif\", \"inReview\": false},{\"id\": 76182, \"created\": \"1697404001712\", \"baseImage\": 74637, \"project\": 73025, \"user\": 72728, \"originalFilename\": \"2007PC0247AF.jpg\", \"instanceFilename\": \"2007PC0247AF.jpg\", \"path\": \"/1697403998269/2007PC0247AF_pyr.tif\", \"width\": 1024, \"height\": 768, \"depth\": 2, \"thumb\": \"http://maods.homelab.core/api/abstractimage/74637/thumb.png?maxSize=512\", \"preview\": \"http://maods.homelab.core/api/abstractimage/74637/thumb.png?maxSize=1024\", \"numberOfAnnotations\": 0, \"numberOfJobAnnotations\": 0, \"numberOfReviewedAnnotations\": 0, \"reviewed\": false, \"class_\": \"be.cytomine.image.ImageInstance\", \"filename\": \"/1697403998269/2007PC0247AF_pyr.tif\", \"extension\": \"tif\", \"sample\": 74629, \"mime\": \"image/pyrtiff\", \"fullPath\": \"/home/maodsunix/cytomine/data/images/72728//1697403998269/2007PC0247AF_pyr.tif\", \"inReview\": false},{\"id\": 76155, \"created\": \"1697404001672\", \"baseImage\": 74727, \"project\": 73025, \"user\": 72728, \"originalFilename\": \"2010PC0946AAK.jpg\", \"instanceFilename\": \"2010PC0946AAK.jpg\", \"path\": \"/1697403998460/2010PC0946AAK_pyr.tif\", \"width\": 1024, \"height\": 768, \"depth\": 2, \"thumb\": \"http://maods.homelab.core/api/abstractimage/74727/thumb.png?maxSize=512\", \"preview\": \"http://maods.homelab.core/api/abstractimage/74727/thumb.png?maxSize=1024\", \"numberOfAnnotations\": 0, \"numberOfJobAnnotations\": 0, \"numberOfReviewedAnnotations\": 0, \"reviewed\": false, \"class_\": \"be.cytomine.image.ImageInstance\", \"filename\": \"/1697403998460/2010PC0946AAK_pyr.tif\", \"extension\": \"tif\", \"sample\": 74721, \"mime\": \"image/pyrtiff\", \"fullPath\": \"/home/maodsunix/cytomine/data/images/72728//1697403998460/2010PC0946AAK_pyr.tif\", \"inReview\": false},{\"id\": 76137, \"created\": \"1697404001628\", \"baseImage\": 74833, \"project\": 73025, \"user\": 72728, \"originalFilename\": \"2010PC0464AAM.jpg\", \"instanceFilename\": \"2010PC0464AAM.jpg\", \"path\": \"/1697403998291/2010PC0464AAM_pyr.tif\", \"width\": 1024, \"height\": 768, \"depth\": 2, \"thumb\": \"http://maods.homelab.core/api/abstractimage/74833/thumb.png?maxSize=512\", \"preview\": \"http://maods.homelab.core/api/abstractimage/74833/thumb.png?maxSize=1024\", \"numberOfAnnotations\": 0, \"numberOfJobAnnotations\": 0, \"numberOfReviewedAnnotations\": 0, \"reviewed\": false, \"class_\": \"be.cytomine.image.ImageInstance\", \"filename\": \"/1697403998291/2010PC0464AAM_pyr.tif\", \"extension\": \"tif\", \"sample\": 74765, \"mime\": \"image/pyrtiff\", \"fullPath\": \"/home/maodsunix/cytomine/data/images/72728//1697403998291/2010PC0464AAM_pyr.tif\", \"inReview\": false},{\"id\": 76113, \"created\": \"1697404001578\", \"baseImage\": 74774, \"project\": 73025, \"user\": 72728, \"originalFilename\": \"2010PC0246AC.jpg\", \"instanceFilename\": \"2010PC0246AC.jpg\", \"path\": \"/1697403998315/2010PC0246AC_pyr.tif\", \"width\": 1024, \"height\": 768, \"depth\": 2, \"thumb\": \"http://maods.homelab.core/api/abstractimage/74774/thumb.png?maxSize=512\", \"preview\": \"http://maods.homelab.core/api/abstractimage/74774/thumb.png?maxSize=1024\", \"numberOfAnnotations\": 0, \"numberOfJobAnnotations\": 0, \"numberOfReviewedAnnotations\": 0, \"reviewed\": false, \"class_\": \"be.cytomine.image.ImageInstance\", \"filename\": \"/1697403998315/2010PC0246AC_pyr.tif\", \"extension\": \"tif\", \"sample\": 74771, \"mime\": \"image/pyrtiff\", \"fullPath\": \"/home/maodsunix/cytomine/data/images/72728//1697403998315/2010PC0246AC_pyr.tif\", \"inReview\": false},{\"id\": 76085, \"created\": \"1697404001544\", \"baseImage\": 74937, \"project\": 73025, \"user\": 72728, \"originalFilename\": \"2010PC0946AAL.jpg\", \"instanceFilename\": \"2010PC0946AAL.jpg\", \"path\": \"/1697403998513/2010PC0946AAL_pyr.tif\", \"width\": 1024, \"height\": 768, \"depth\": 2, \"thumb\": \"http://maods.homelab.core/api/abstractimage/74937/thumb.png?maxSize=512\", \"preview\": \"http://maods.homelab.core/api/abstractimage/74937/thumb.png?maxSize=1024\", \"numberOfAnnotations\": 0, \"numberOfJobAnnotations\": 0, \"numberOfReviewedAnnotations\": 0, \"reviewed\": false, \"class_\": \"be.cytomine.image.ImageInstance\", \"filename\": \"/1697403998513/2010PC0946AAL_pyr.tif\", \"extension\": \"tif\", \"sample\": 74934, \"mime\": \"image/pyrtiff\", \"fullPath\": \"/home/maodsunix/cytomine/data/images/72728//1697403998513/2010PC0946AAL_pyr.tif\", \"inReview\": false},{\"id\": 76057, \"created\": \"1697404001508\", \"baseImage\": 74933, \"project\": 73025, \"user\": 72728, \"originalFilename\": \"2010PC0946AAS.jpg\", \"instanceFilename\": \"2010PC0946AAS.jpg\", \"path\": \"/1697403998754/2010PC0946AAS_pyr.tif\", \"width\": 1024, \"height\": 768, \"depth\": 2, \"thumb\": \"http://maods.homelab.core/api/abstractimage/74933/thumb.png?maxSize=512\", \"preview\": \"http://maods.homelab.core/api/abstractimage/74933/thumb.png?maxSize=1024\", \"numberOfAnnotations\": 0, \"numberOfJobAnnotations\": 0, \"numberOfReviewedAnnotations\": 0, \"reviewed\": false, \"class_\": \"be.cytomine.image.ImageInstance\", \"filename\": \"/1697403998754/2010PC0946AAS_pyr.tif\", \"extension\": \"tif\", \"sample\": 74915, \"mime\": \"image/pyrtiff\", \"fullPath\": \"/home/maodsunix/cytomine/data/images/72728//1697403998754/2010PC0946AAS_pyr.tif\", \"inReview\": false},{\"id\": 75946, \"created\": \"1697404001366\", \"baseImage\": 75025, \"project\": 73025, \"user\": 72728, \"originalFilename\": \"2007PC0501AD.jpg\", \"instanceFilename\": \"2007PC0501AD.jpg\", \"path\": \"/1697403998956/2007PC0501AD_pyr.tif\", \"width\": 1024, \"height\": 768, \"depth\": 2, \"thumb\": \"http://maods.homelab.core/api/abstractimage/75025/thumb.png?maxSize=512\", \"preview\": \"http://maods.homelab.core/api/abstractimage/75025/thumb.png?maxSize=1024\", \"numberOfAnnotations\": 0, \"numberOfJobAnnotations\": 0, \"numberOfReviewedAnnotations\": 0, \"reviewed\": false, \"class_\": \"be.cytomine.image.ImageInstance\", \"filename\": \"/1697403998956/2007PC0501AD_pyr.tif\", \"extension\": \"tif\", \"sample\": 75020, \"mime\": \"image/pyrtiff\", \"fullPath\": \"/home/maodsunix/cytomine/data/images/72728//1697403998956/2007PC0501AD_pyr.tif\", \"inReview\": false},{\"id\": 75913, \"created\": \"1697404001322\", \"baseImage\": 74888, \"project\": 73025, \"user\": 72728, \"originalFilename\": \"2010PC0946AAN.jpg\", \"instanceFilename\": \"2010PC0946AAN.jpg\", \"path\": \"/1697403998723/2010PC0946AAN_pyr.tif\", \"width\": 1024, \"height\": 768, \"depth\": 2, \"thumb\": \"http://maods.homelab.core/api/abstractimage/74888/thumb.png?maxSize=512\", \"preview\": \"http://maods.homelab.core/api/abstractimage/74888/thumb.png?maxSize=1024\", \"numberOfAnnotations\": 0, \"numberOfJobAnnotations\": 0, \"numberOfReviewedAnnotations\": 0, \"reviewed\": false, \"class_\": \"be.cytomine.image.ImageInstance\", \"filename\": \"/1697403998723/2010PC0946AAN_pyr.tif\", \"extension\": \"tif\", \"sample\": 74887, \"mime\": \"image/pyrtiff\", \"fullPath\": \"/home/maodsunix/cytomine/data/images/72728//1697403998723/2010PC0946AAN_pyr.tif\", \"inReview\": false},{\"id\": 75836, \"created\": \"1697404001242\", \"baseImage\": 75072, \"project\": 73025, \"user\": 72728, \"originalFilename\": \"PC1280-03l.jpg\", \"instanceFilename\": \"PC1280-03l.jpg\", \"path\": \"/1697403998854/PC1280-03l_pyr.tif\", \"width\": 896, \"height\": 721, \"depth\": 2, \"thumb\": \"http://maods.homelab.core/api/abstractimage/75072/thumb.png?maxSize=512\", \"preview\": \"http://maods.homelab.core/api/abstractimage/75072/thumb.png?maxSize=1024\", \"numberOfAnnotations\": 0, \"numberOfJobAnnotations\": 0, \"numberOfReviewedAnnotations\": 0, \"reviewed\": false, \"class_\": \"be.cytomine.image.ImageInstance\", \"filename\": \"/1697403998854/PC1280-03l_pyr.tif\", \"extension\": \"tif\", \"sample\": 75069, \"mime\": \"image/pyrtiff\", \"fullPath\": \"/home/maodsunix/cytomine/data/images/72728//1697403998854/PC1280-03l_pyr.tif\", \"inReview\": false},{\"id\": 75816, \"created\": \"1697404001121\", \"baseImage\": 75290, \"project\": 73025, \"user\": 72728, \"originalFilename\": \"PC1327-03h.jpg\", \"instanceFilename\": \"PC1327-03h.jpg\", \"path\": \"/1697403998904/PC1327-03h_pyr.tif\", \"width\": 1016, \"height\": 760, \"depth\": 2, \"thumb\": \"http://maods.homelab.core/api/abstractimage/75290/thumb.png?maxSize=512\", \"preview\": \"http://maods.homelab.core/api/abstractimage/75290/thumb.png?maxSize=1024\", \"numberOfAnnotations\": 0, \"numberOfJobAnnotations\": 0, \"numberOfReviewedAnnotations\": 0, \"reviewed\": false, \"class_\": \"be.cytomine.image.ImageInstance\", \"filename\": \"/1697403998904/PC1327-03h_pyr.tif\", \"extension\": \"tif\", \"sample\": 75270, \"mime\": \"image/pyrtiff\", \"fullPath\": \"/home/maodsunix/cytomine/data/images/72728//1697403998904/PC1327-03h_pyr.tif\", \"inReview\": false},{\"id\": 75794, \"created\": \"1697404001066\", \"baseImage\": 75202, \"project\": 73025, \"user\": 72728, \"originalFilename\": \"PRO2006PS1870AD.jpg\", \"instanceFilename\": \"PRO2006PS1870AD.jpg\", \"path\": \"/1697403999455/PRO2006PS1870AD_pyr.tif\", \"width\": 1024, \"height\": 768, \"depth\": 2, \"thumb\": \"http://maods.homelab.core/api/abstractimage/75202/thumb.png?maxSize=512\", \"preview\": \"http://maods.homelab.core/api/abstractimage/75202/thumb.png?maxSize=1024\", \"numberOfAnnotations\": 0, \"numberOfJobAnnotations\": 0, \"numberOfReviewedAnnotations\": 0, \"reviewed\": false, \"class_\": \"be.cytomine.image.ImageInstance\", \"filename\": \"/1697403999455/PRO2006PS1870AD_pyr.tif\", \"extension\": \"tif\", \"sample\": 75190, \"mime\": \"image/pyrtiff\", \"fullPath\": \"/home/maodsunix/cytomine/data/images/72728//1697403999455/PRO2006PS1870AD_pyr.tif\", \"inReview\": false},{\"id\": 75714, \"created\": \"1697404000983\", \"baseImage\": 75244, \"project\": 73025, \"user\": 72728, \"originalFilename\": \"PRO2012PS0074AAL.jpg\", \"instanceFilename\": \"PRO2012PS0074AAL.jpg\", \"path\": \"/1697403999516/PRO2012PS0074AAL_pyr.tif\", \"width\": 1024, \"height\": 768, \"depth\": 2, \"thumb\": \"http://maods.homelab.core/api/abstractimage/75244/thumb.png?maxSize=512\", \"preview\": \"http://maods.homelab.core/api/abstractimage/75244/thumb.png?maxSize=1024\", \"numberOfAnnotations\": 0, \"numberOfJobAnnotations\": 0, \"numberOfReviewedAnnotations\": 0, \"reviewed\": false, \"class_\": \"be.cytomine.image.ImageInstance\", \"filename\": \"/1697403999516/PRO2012PS0074AAL_pyr.tif\", \"extension\": \"tif\", \"sample\": 75237, \"mime\": \"image/pyrtiff\", \"fullPath\": \"/home/maodsunix/cytomine/data/images/72728//1697403999516/PRO2012PS0074AAL_pyr.tif\", \"inReview\": false},{\"id\": 75682, \"created\": \"1697404000944\", \"baseImage\": 75191, \"project\": 73025, \"user\": 72728, \"originalFilename\": \"PC1327-03i.jpg\", \"instanceFilename\": \"PC1327-03i.jpg\", \"path\": \"/1697403999059/PC1327-03i_pyr.tif\", \"width\": 1016, \"height\": 760, \"depth\": 2, \"thumb\": \"http://maods.homelab.core/api/abstractimage/75191/thumb.png?maxSize=512\", \"preview\": \"http://maods.homelab.core/api/abstractimage/75191/thumb.png?maxSize=1024\", \"numberOfAnnotations\": 0, \"numberOfJobAnnotations\": 0, \"numberOfReviewedAnnotations\": 0, \"reviewed\": false, \"class_\": \"be.cytomine.image.ImageInstance\", \"filename\": \"/1697403999059/PC1327-03i_pyr.tif\", \"extension\": \"tif\", \"sample\": 75189, \"mime\": \"image/pyrtiff\", \"fullPath\": \"/home/maodsunix/cytomine/data/images/72728//1697403999059/PC1327-03i_pyr.tif\", \"inReview\": false},{\"id\": 75573, \"created\": \"1697404000759\", \"baseImage\": 73766, \"project\": 73025, \"user\": 72728, \"originalFilename\": \"2007PC0094AE.jpg\", \"instanceFilename\": \"2007PC0094AE.jpg\", \"path\": \"/1697403997203/2007PC0094AE_pyr.tif\", \"width\": 1024, \"height\": 768, \"depth\": 2, \"thumb\": \"http://maods.homelab.core/api/abstractimage/73766/thumb.png?maxSize=512\", \"preview\": \"http://maods.homelab.core/api/abstractimage/73766/thumb.png?maxSize=1024\", \"numberOfAnnotations\": 0, \"numberOfJobAnnotations\": 0, \"numberOfReviewedAnnotations\": 0, \"reviewed\": false, \"class_\": \"be.cytomine.image.ImageInstance\", \"filename\": \"/1697403997203/2007PC0094AE_pyr.tif\", \"extension\": \"tif\", \"sample\": 73756, \"mime\": \"image/pyrtiff\", \"fullPath\": \"/home/maodsunix/cytomine/data/images/72728//1697403997203/2007PC0094AE_pyr.tif\", \"inReview\": false},{\"id\": 75523, \"created\": \"1697404000714\", \"baseImage\": 74003, \"project\": 73025, \"user\": 72728, \"originalFilename\": \"2009PC0459AM.jpg\", \"instanceFilename\": \"2009PC0459AM.jpg\", \"path\": \"/1697403997451/2009PC0459AM_pyr.tif\", \"width\": 1024, \"height\": 768, \"depth\": 2, \"thumb\": \"http://maods.homelab.core/api/abstractimage/74003/thumb.png?maxSize=512\", \"preview\": \"http://maods.homelab.core/api/abstractimage/74003/thumb.png?maxSize=1024\", \"numberOfAnnotations\": 0, \"numberOfJobAnnotations\": 0, \"numberOfReviewedAnnotations\": 0, \"reviewed\": false, \"class_\": \"be.cytomine.image.ImageInstance\", \"filename\": \"/1697403997451/2009PC0459AM_pyr.tif\", \"extension\": \"tif\", \"sample\": 73994, \"mime\": \"image/pyrtiff\", \"fullPath\": \"/home/maodsunix/cytomine/data/images/72728//1697403997451/2009PC0459AM_pyr.tif\", \"inReview\": false},{\"id\": 75448, \"created\": \"1697404000660\", \"baseImage\": 74060, \"project\": 73025, \"user\": 72728, \"originalFilename\": \"2009PC0575AE.jpg\", \"instanceFilename\": \"2009PC0575AE.jpg\", \"path\": \"/1697403997447/2009PC0575AE_pyr.tif\", \"width\": 1024, \"height\": 768, \"depth\": 2, \"thumb\": \"http://maods.homelab.core/api/abstractimage/74060/thumb.png?maxSize=512\", \"preview\": \"http://maods.homelab.core/api/abstractimage/74060/thumb.png?maxSize=1024\", \"numberOfAnnotations\": 0, \"numberOfJobAnnotations\": 0, \"numberOfReviewedAnnotations\": 0, \"reviewed\": false, \"class_\": \"be.cytomine.image.ImageInstance\", \"filename\": \"/1697403997447/2009PC0575AE_pyr.tif\", \"extension\": \"tif\", \"sample\": 74051, \"mime\": \"image/pyrtiff\", \"fullPath\": \"/home/maodsunix/cytomine/data/images/72728//1697403997447/2009PC0575AE_pyr.tif\", \"inReview\": false},{\"id\": 75387, \"created\": \"1697404000596\", \"baseImage\": 74219, \"project\": 73025, \"user\": 72728, \"originalFilename\": \"2007PC0094AG.jpg\", \"instanceFilename\": \"2007PC0094AG.jpg\", \"path\": \"/1697403997471/2007PC0094AG_pyr.tif\", \"width\": 1024, \"height\": 768, \"depth\": 2, \"thumb\": \"http://maods.homelab.core/api/abstractimage/74219/thumb.png?maxSize=512\", \"preview\": \"http://maods.homelab.core/api/abstractimage/74219/thumb.png?maxSize=1024\", \"numberOfAnnotations\": 0, \"numberOfJobAnnotations\": 0, \"numberOfReviewedAnnotations\": 0, \"reviewed\": false, \"class_\": \"be.cytomine.image.ImageInstance\", \"filename\": \"/1697403997471/2007PC0094AG_pyr.tif\", \"extension\": \"tif\", \"sample\": 74198, \"mime\": \"image/pyrtiff\", \"fullPath\": \"/home/maodsunix/cytomine/data/images/72728//1697403997471/2007PC0094AG_pyr.tif\", \"inReview\": false},{\"id\": 75364, \"created\": \"1697404000473\", \"baseImage\": 73989, \"project\": 73025, \"user\": 72728, \"originalFilename\": \"2009PC0459AJ.jpg\", \"instanceFilename\": \"2009PC0459AJ.jpg\", \"path\": \"/1697403997580/2009PC0459AJ_pyr.tif\", \"width\": 1024, \"height\": 768, \"depth\": 2, \"thumb\": \"http://maods.homelab.core/api/abstractimage/73989/thumb.png?maxSize=512\", \"preview\": \"http://maods.homelab.core/api/abstractimage/73989/thumb.png?maxSize=1024\", \"numberOfAnnotations\": 0, \"numberOfJobAnnotations\": 0, \"numberOfReviewedAnnotations\": 0, \"reviewed\": false, \"class_\": \"be.cytomine.image.ImageInstance\", \"filename\": \"/1697403997580/2009PC0459AJ_pyr.tif\", \"extension\": \"tif\", \"sample\": 73983, \"mime\": \"image/pyrtiff\", \"fullPath\": \"/home/maodsunix/cytomine/data/images/72728//1697403997580/2009PC0459AJ_pyr.tif\", \"inReview\": false},{\"id\": 75333, \"created\": \"1697404000427\", \"baseImage\": 74177, \"project\": 73025, \"user\": 72728, \"originalFilename\": \"2009PC0459AU.jpg\", \"instanceFilename\": \"2009PC0459AU.jpg\", \"path\": \"/1697403997470/2009PC0459AU_pyr.tif\", \"width\": 1024, \"height\": 768, \"depth\": 2, \"thumb\": \"http://maods.homelab.core/api/abstractimage/74177/thumb.png?maxSize=512\", \"preview\": \"http://maods.homelab.core/api/abstractimage/74177/thumb.png?maxSize=1024\", \"numberOfAnnotations\": 0, \"numberOfJobAnnotations\": 0, \"numberOfReviewedAnnotations\": 0, \"reviewed\": false, \"class_\": \"be.cytomine.image.ImageInstance\", \"filename\": \"/1697403997470/2009PC0459AU_pyr.tif\", \"extension\": \"tif\", \"sample\": 74138, \"mime\": \"image/pyrtiff\", \"fullPath\": \"/home/maodsunix/cytomine/data/images/72728//1697403997470/2009PC0459AU_pyr.tif\", \"inReview\": false},{\"id\": 75236, \"created\": \"1697404000368\", \"baseImage\": 74318, \"project\": 73025, \"user\": 72728, \"originalFilename\": \"2009PC1043AR.jpg\", \"instanceFilename\": \"2009PC1043AR.jpg\", \"path\": \"/1697403997737/2009PC1043AR_pyr.tif\", \"width\": 1024, \"height\": 768, \"depth\": 2, \"thumb\": \"http://maods.homelab.core/api/abstractimage/74318/thumb.png?maxSize=512\", \"preview\": \"http://maods.homelab.core/api/abstractimage/74318/thumb.png?maxSize=1024\", \"numberOfAnnotations\": 0, \"numberOfJobAnnotations\": 0, \"numberOfReviewedAnnotations\": 0, \"reviewed\": false, \"class_\": \"be.cytomine.image.ImageInstance\", \"filename\": \"/1697403997737/2009PC1043AR_pyr.tif\", \"extension\": \"tif\", \"sample\": 74315, \"mime\": \"image/pyrtiff\", \"fullPath\": \"/home/maodsunix/cytomine/data/images/72728//1697403997737/2009PC1043AR_pyr.tif\", \"inReview\": false},{\"id\": 75205, \"created\": \"1697404000323\", \"baseImage\": 74241, \"project\": 73025, \"user\": 72728, \"originalFilename\": \"2009PC1266AE.jpg\", \"instanceFilename\": \"2009PC1266AE.jpg\", \"path\": \"/1697403997905/2009PC1266AE_pyr.tif\", \"width\": 1024, \"height\": 768, \"depth\": 2, \"thumb\": \"http://maods.homelab.core/api/abstractimage/74241/thumb.png?maxSize=512\", \"preview\": \"http://maods.homelab.core/api/abstractimage/74241/thumb.png?maxSize=1024\", \"numberOfAnnotations\": 0, \"numberOfJobAnnotations\": 0, \"numberOfReviewedAnnotations\": 0, \"reviewed\": false, \"class_\": \"be.cytomine.image.ImageInstance\", \"filename\": \"/1697403997905/2009PC1266AE_pyr.tif\", \"extension\": \"tif\", \"sample\": 74238, \"mime\": \"image/pyrtiff\", \"fullPath\": \"/home/maodsunix/cytomine/data/images/72728//1697403997905/2009PC1266AE_pyr.tif\", \"inReview\": false},{\"id\": 75125, \"created\": \"1697404000191\", \"baseImage\": 74322, \"project\": 73025, \"user\": 72728, \"originalFilename\": \"2009PC1259AE.jpg\", \"instanceFilename\": \"2009PC1259AE.jpg\", \"path\": \"/1697403997905/2009PC1259AE_pyr.tif\", \"width\": 1024, \"height\": 768, \"depth\": 2, \"thumb\": \"http://maods.homelab.core/api/abstractimage/74322/thumb.png?maxSize=512\", \"preview\": \"http://maods.homelab.core/api/abstractimage/74322/thumb.png?maxSize=1024\", \"numberOfAnnotations\": 0, \"numberOfJobAnnotations\": 0, \"numberOfReviewedAnnotations\": 0, \"reviewed\": false, \"class_\": \"be.cytomine.image.ImageInstance\", \"filename\": \"/1697403997905/2009PC1259AE_pyr.tif\", \"extension\": \"tif\", \"sample\": 74320, \"mime\": \"image/pyrtiff\", \"fullPath\": \"/home/maodsunix/cytomine/data/images/72728//1697403997905/2009PC1259AE_pyr.tif\", \"inReview\": false},{\"id\": 75068, \"created\": \"1697404000135\", \"baseImage\": 74452, \"project\": 73025, \"user\": 72728, \"originalFilename\": \"2009PC1259AF.jpg\", \"instanceFilename\": \"2009PC1259AF.jpg\", \"path\": \"/1697403997925/2009PC1259AF_pyr.tif\", \"width\": 1024, \"height\": 768, \"depth\": 2, \"thumb\": \"http://maods.homelab.core/api/abstractimage/74452/thumb.png?maxSize=512\", \"preview\": \"http://maods.homelab.core/api/abstractimage/74452/thumb.png?maxSize=1024\", \"numberOfAnnotations\": 0, \"numberOfJobAnnotations\": 0, \"numberOfReviewedAnnotations\": 0, \"reviewed\": false, \"class_\": \"be.cytomine.image.ImageInstance\", \"filename\": \"/1697403997925/2009PC1259AF_pyr.tif\", \"extension\": \"tif\", \"sample\": 74447, \"mime\": \"image/pyrtiff\", \"fullPath\": \"/home/maodsunix/cytomine/data/images/72728//1697403997925/2009PC1259AF_pyr.tif\", \"inReview\": false},{\"id\": 74998, \"created\": \"1697404000044\", \"baseImage\": 74313, \"project\": 73025, \"user\": 72728, \"originalFilename\": \"2009PC1259AD.jpg\", \"instanceFilename\": \"2009PC1259AD.jpg\", \"path\": \"/1697403997523/2009PC1259AD_pyr.tif\", \"width\": 1024, \"height\": 768, \"depth\": 2, \"thumb\": \"http://maods.homelab.core/api/abstractimage/74313/thumb.png?maxSize=512\", \"preview\": \"http://maods.homelab.core/api/abstractimage/74313/thumb.png?maxSize=1024\", \"numberOfAnnotations\": 0, \"numberOfJobAnnotations\": 0, \"numberOfReviewedAnnotations\": 0, \"reviewed\": false, \"class_\": \"be.cytomine.image.ImageInstance\", \"filename\": \"/1697403997523/2009PC1259AD_pyr.tif\", \"extension\": \"tif\", \"sample\": 74310, \"mime\": \"image/pyrtiff\", \"fullPath\": \"/home/maodsunix/cytomine/data/images/72728//1697403997523/2009PC1259AD_pyr.tif\", \"inReview\": false},{\"id\": 74968, \"created\": \"1697403999989\", \"baseImage\": 74402, \"project\": 73025, \"user\": 72728, \"originalFilename\": \"2007PC0247AD.jpg\", \"instanceFilename\": \"2007PC0247AD.jpg\", \"path\": \"/1697403998131/2007PC0247AD_pyr.tif\", \"width\": 1024, \"height\": 768, \"depth\": 2, \"thumb\": \"http://maods.homelab.core/api/abstractimage/74402/thumb.png?maxSize=512\", \"preview\": \"http://maods.homelab.core/api/abstractimage/74402/thumb.png?maxSize=1024\", \"numberOfAnnotations\": 0, \"numberOfJobAnnotations\": 0, \"numberOfReviewedAnnotations\": 0, \"reviewed\": false, \"class_\": \"be.cytomine.image.ImageInstance\", \"filename\": \"/1697403998131/2007PC0247AD_pyr.tif\", \"extension\": \"tif\", \"sample\": 74399, \"mime\": \"image/pyrtiff\", \"fullPath\": \"/home/maodsunix/cytomine/data/images/72728//1697403998131/2007PC0247AD_pyr.tif\", \"inReview\": false},{\"id\": 74877, \"created\": \"1697403999852\", \"baseImage\": 74249, \"project\": 73025, \"user\": 72728, \"originalFilename\": \"2007PC0102AL.jpg\", \"instanceFilename\": \"2007PC0102AL.jpg\", \"path\": \"/1697403997861/2007PC0102AL_pyr.tif\", \"width\": 1024, \"height\": 768, \"depth\": 2, \"thumb\": \"http://maods.homelab.core/api/abstractimage/74249/thumb.png?maxSize=512\", \"preview\": \"http://maods.homelab.core/api/abstractimage/74249/thumb.png?maxSize=1024\", \"numberOfAnnotations\": 0, \"numberOfJobAnnotations\": 0, \"numberOfReviewedAnnotations\": 0, \"reviewed\": false, \"class_\": \"be.cytomine.image.ImageInstance\", \"filename\": \"/1697403997861/2007PC0102AL_pyr.tif\", \"extension\": \"tif\", \"sample\": 74247, \"mime\": \"image/pyrtiff\", \"fullPath\": \"/home/maodsunix/cytomine/data/images/72728//1697403997861/2007PC0102AL_pyr.tif\", \"inReview\": false},{\"id\": 74863, \"created\": \"1697403999814\", \"baseImage\": 74387, \"project\": 73025, \"user\": 72728, \"originalFilename\": \"2009PC1266AB.jpg\", \"instanceFilename\": \"2009PC1266AB.jpg\", \"path\": \"/1697403997905/2009PC1266AB_pyr.tif\", \"width\": 1024, \"height\": 768, \"depth\": 2, \"thumb\": \"http://maods.homelab.core/api/abstractimage/74387/thumb.png?maxSize=512\", \"preview\": \"http://maods.homelab.core/api/abstractimage/74387/thumb.png?maxSize=1024\", \"numberOfAnnotations\": 0, \"numberOfJobAnnotations\": 0, \"numberOfReviewedAnnotations\": 0, \"reviewed\": false, \"class_\": \"be.cytomine.image.ImageInstance\", \"filename\": \"/1697403997905/2009PC1266AB_pyr.tif\", \"extension\": \"tif\", \"sample\": 74381, \"mime\": \"image/pyrtiff\", \"fullPath\": \"/home/maodsunix/cytomine/data/images/72728//1697403997905/2009PC1266AB_pyr.tif\", \"inReview\": false},{\"id\": 74847, \"created\": \"1697403999782\", \"baseImage\": 73689, \"project\": 73025, \"user\": 72728, \"originalFilename\": \"2009PC0459AE.jpg\", \"instanceFilename\": \"2009PC0459AE.jpg\", \"path\": \"/1697403997203/2009PC0459AE_pyr.tif\", \"width\": 1024, \"height\": 768, \"depth\": 2, \"thumb\": \"http://maods.homelab.core/api/abstractimage/73689/thumb.png?maxSize=512\", \"preview\": \"http://maods.homelab.core/api/abstractimage/73689/thumb.png?maxSize=1024\", \"numberOfAnnotations\": 0, \"numberOfJobAnnotations\": 0, \"numberOfReviewedAnnotations\": 0, \"reviewed\": false, \"class_\": \"be.cytomine.image.ImageInstance\", \"filename\": \"/1697403997203/2009PC0459AE_pyr.tif\", \"extension\": \"tif\", \"sample\": 73688, \"mime\": \"image/pyrtiff\", \"fullPath\": \"/home/maodsunix/cytomine/data/images/72728//1697403997203/2009PC0459AE_pyr.tif\", \"inReview\": false},{\"id\": 74539, \"created\": \"1697403999473\", \"baseImage\": 73698, \"project\": 73025, \"user\": 72728, \"originalFilename\": \"2009PC0278AH.jpg\", \"instanceFilename\": \"2009PC0278AH.jpg\", \"path\": \"/1697403997079/2009PC0278AH_pyr.tif\", \"width\": 1024, \"height\": 768, \"depth\": 2, \"thumb\": \"http://maods.homelab.core/api/abstractimage/73698/thumb.png?maxSize=512\", \"preview\": \"http://maods.homelab.core/api/abstractimage/73698/thumb.png?maxSize=1024\", \"numberOfAnnotations\": 0, \"numberOfJobAnnotations\": 0, \"numberOfReviewedAnnotations\": 0, \"reviewed\": false, \"class_\": \"be.cytomine.image.ImageInstance\", \"filename\": \"/1697403997079/2009PC0278AH_pyr.tif\", \"extension\": \"tif\", \"sample\": 73694, \"mime\": \"image/pyrtiff\", \"fullPath\": \"/home/maodsunix/cytomine/data/images/72728//1697403997079/2009PC0278AH_pyr.tif\", \"inReview\": false},{\"id\": 74463, \"created\": \"1697403999339\", \"baseImage\": 73740, \"project\": 73025, \"user\": 72728, \"originalFilename\": \"2009PC0459AG.jpg\", \"instanceFilename\": \"2009PC0459AG.jpg\", \"path\": \"/1697403997151/2009PC0459AG_pyr.tif\", \"width\": 1024, \"height\": 768, \"depth\": 2, \"thumb\": \"http://maods.homelab.core/api/abstractimage/73740/thumb.png?maxSize=512\", \"preview\": \"http://maods.homelab.core/api/abstractimage/73740/thumb.png?maxSize=1024\", \"numberOfAnnotations\": 0, \"numberOfJobAnnotations\": 0, \"numberOfReviewedAnnotations\": 0, \"reviewed\": false, \"class_\": \"be.cytomine.image.ImageInstance\", \"filename\": \"/1697403997151/2009PC0459AG_pyr.tif\", \"extension\": \"tif\", \"sample\": 73736, \"mime\": \"image/pyrtiff\", \"fullPath\": \"/home/maodsunix/cytomine/data/images/72728//1697403997151/2009PC0459AG_pyr.tif\", \"inReview\": false},{\"id\": 74393, \"created\": \"1697403999202\", \"baseImage\": 73797, \"project\": 73025, \"user\": 72728, \"originalFilename\": \"2009PC0278AC.jpg\", \"instanceFilename\": \"2009PC0278AC.jpg\", \"path\": \"/1697403997091/2009PC0278AC_pyr.tif\", \"width\": 1024, \"height\": 768, \"depth\": 2, \"thumb\": \"http://maods.homelab.core/api/abstractimage/73797/thumb.png?maxSize=512\", \"preview\": \"http://maods.homelab.core/api/abstractimage/73797/thumb.png?maxSize=1024\", \"numberOfAnnotations\": 0, \"numberOfJobAnnotations\": 0, \"numberOfReviewedAnnotations\": 0, \"reviewed\": false, \"class_\": \"be.cytomine.image.ImageInstance\", \"filename\": \"/1697403997091/2009PC0278AC_pyr.tif\", \"extension\": \"tif\", \"sample\": 73792, \"mime\": \"image/pyrtiff\", \"fullPath\": \"/home/maodsunix/cytomine/data/images/72728//1697403997091/2009PC0278AC_pyr.tif\", \"inReview\": false},{\"id\": 74229, \"created\": \"1697403998989\", \"baseImage\": 73768, \"project\": 73025, \"user\": 72728, \"originalFilename\": \"2006PC1794AI.jpg\", \"instanceFilename\": \"2006PC1794AI.jpg\", \"path\": \"/1697403997092/2006PC1794AI_pyr.tif\", \"width\": 1024, \"height\": 768, \"depth\": 2, \"thumb\": \"http://maods.homelab.core/api/abstractimage/73768/thumb.png?maxSize=512\", \"preview\": \"http://maods.homelab.core/api/abstractimage/73768/thumb.png?maxSize=1024\", \"numberOfAnnotations\": 0, \"numberOfJobAnnotations\": 0, \"numberOfReviewedAnnotations\": 0, \"reviewed\": false, \"class_\": \"be.cytomine.image.ImageInstance\", \"filename\": \"/1697403997092/2006PC1794AI_pyr.tif\", \"extension\": \"tif\", \"sample\": 73746, \"mime\": \"image/pyrtiff\", \"fullPath\": \"/home/maodsunix/cytomine/data/images/72728//1697403997092/2006PC1794AI_pyr.tif\", \"inReview\": false},{\"id\": 74162, \"created\": \"1697403998865\", \"baseImage\": 73484, \"project\": 73025, \"user\": 72728, \"originalFilename\": \"2006PC1617AU.jpg\", \"instanceFilename\": \"2006PC1617AU.jpg\", \"path\": \"/1697403996823/2006PC1617AU_pyr.tif\", \"width\": 1024, \"height\": 768, \"depth\": 2, \"thumb\": \"http://maods.homelab.core/api/abstractimage/73484/thumb.png?maxSize=512\", \"preview\": \"http://maods.homelab.core/api/abstractimage/73484/thumb.png?maxSize=1024\", \"numberOfAnnotations\": 0, \"numberOfJobAnnotations\": 0, \"numberOfReviewedAnnotations\": 0, \"reviewed\": false, \"class_\": \"be.cytomine.image.ImageInstance\", \"filename\": \"/1697403996823/2006PC1617AU_pyr.tif\", \"extension\": \"tif\", \"sample\": 73481, \"mime\": \"image/pyrtiff\", \"fullPath\": \"/home/maodsunix/cytomine/data/images/72728//1697403996823/2006PC1617AU_pyr.tif\", \"inReview\": false},{\"id\": 74014, \"created\": \"1697403998599\", \"baseImage\": 73455, \"project\": 73025, \"user\": 72728, \"originalFilename\": \"2008PC0863AC.jpg\", \"instanceFilename\": \"2008PC0863AC.jpg\", \"path\": \"/1697403996824/2008PC0863AC_pyr.tif\", \"width\": 1024, \"height\": 768, \"depth\": 2, \"thumb\": \"http://maods.homelab.core/api/abstractimage/73455/thumb.png?maxSize=512\", \"preview\": \"http://maods.homelab.core/api/abstractimage/73455/thumb.png?maxSize=1024\", \"numberOfAnnotations\": 0, \"numberOfJobAnnotations\": 0, \"numberOfReviewedAnnotations\": 0, \"reviewed\": false, \"class_\": \"be.cytomine.image.ImageInstance\", \"filename\": \"/1697403996824/2008PC0863AC_pyr.tif\", \"extension\": \"tif\", \"sample\": 73450, \"mime\": \"image/pyrtiff\", \"fullPath\": \"/home/maodsunix/cytomine/data/images/72728//1697403996824/2008PC0863AC_pyr.tif\", \"inReview\": false},{\"id\": 73964, \"created\": \"1697403998521\", \"baseImage\": 73474, \"project\": 73025, \"user\": 72728, \"originalFilename\": \"2008PC1031AW.jpg\", \"instanceFilename\": \"2008PC1031AW.jpg\", \"path\": \"/1697403996824/2008PC1031AW_pyr.tif\", \"width\": 1024, \"height\": 768, \"depth\": 2, \"thumb\": \"http://maods.homelab.core/api/abstractimage/73474/thumb.png?maxSize=512\", \"preview\": \"http://maods.homelab.core/api/abstractimage/73474/thumb.png?maxSize=1024\", \"numberOfAnnotations\": 0, \"numberOfJobAnnotations\": 0, \"numberOfReviewedAnnotations\": 0, \"reviewed\": false, \"class_\": \"be.cytomine.image.ImageInstance\", \"filename\": \"/1697403996824/2008PC1031AW_pyr.tif\", \"extension\": \"tif\", \"sample\": 73468, \"mime\": \"image/pyrtiff\", \"fullPath\": \"/home/maodsunix/cytomine/data/images/72728//1697403996824/2008PC1031AW_pyr.tif\", \"inReview\": false},{\"id\": 73858, \"created\": \"1697403998396\", \"baseImage\": 73461, \"project\": 73025, \"user\": 72728, \"originalFilename\": \"2009PC0278AX.jpg\", \"instanceFilename\": \"2009PC0278AX.jpg\", \"path\": \"/1697403996824/2009PC0278AX_pyr.tif\", \"width\": 1024, \"height\": 768, \"depth\": 2, \"thumb\": \"http://maods.homelab.core/api/abstractimage/73461/thumb.png?maxSize=512\", \"preview\": \"http://maods.homelab.core/api/abstractimage/73461/thumb.png?maxSize=1024\", \"numberOfAnnotations\": 0, \"numberOfJobAnnotations\": 0, \"numberOfReviewedAnnotations\": 0, \"reviewed\": false, \"class_\": \"be.cytomine.image.ImageInstance\", \"filename\": \"/1697403996824/2009PC0278AX_pyr.tif\", \"extension\": \"tif\", \"sample\": 73454, \"mime\": \"image/pyrtiff\", \"fullPath\": \"/home/maodsunix/cytomine/data/images/72728//1697403996824/2009PC0278AX_pyr.tif\", \"inReview\": false},{\"id\": 73791, \"created\": \"1697403998307\", \"baseImage\": 73489, \"project\": 73025, \"user\": 72728, \"originalFilename\": \"2007PC0094AD.jpg\", \"instanceFilename\": \"2007PC0094AD.jpg\", \"path\": \"/1697403996824/2007PC0094AD_pyr.tif\", \"width\": 1024, \"height\": 768, \"depth\": 2, \"thumb\": \"http://maods.homelab.core/api/abstractimage/73489/thumb.png?maxSize=512\", \"preview\": \"http://maods.homelab.core/api/abstractimage/73489/thumb.png?maxSize=1024\", \"numberOfAnnotations\": 0, \"numberOfJobAnnotations\": 0, \"numberOfReviewedAnnotations\": 0, \"reviewed\": false, \"class_\": \"be.cytomine.image.ImageInstance\", \"filename\": \"/1697403996824/2007PC0094AD_pyr.tif\", \"extension\": \"tif\", \"sample\": 73488, \"mime\": \"image/pyrtiff\", \"fullPath\": \"/home/maodsunix/cytomine/data/images/72728//1697403996824/2007PC0094AD_pyr.tif\", \"inReview\": false},{\"id\": 73695, \"created\": \"1697403998121\", \"baseImage\": 73473, \"project\": 73025, \"user\": 72728, \"originalFilename\": \"2008PC1053AH.jpg\", \"instanceFilename\": \"2008PC1053AH.jpg\", \"path\": \"/1697403996824/2008PC1053AH_pyr.tif\", \"width\": 1024, \"height\": 768, \"depth\": 2, \"thumb\": \"http://maods.homelab.core/api/abstractimage/73473/thumb.png?maxSize=512\", \"preview\": \"http://maods.homelab.core/api/abstractimage/73473/thumb.png?maxSize=1024\", \"numberOfAnnotations\": 0, \"numberOfJobAnnotations\": 0, \"numberOfReviewedAnnotations\": 0, \"reviewed\": false, \"class_\": \"be.cytomine.image.ImageInstance\", \"filename\": \"/1697403996824/2008PC1053AH_pyr.tif\", \"extension\": \"tif\", \"sample\": 73467, \"mime\": \"image/pyrtiff\", \"fullPath\": \"/home/maodsunix/cytomine/data/images/72728//1697403996824/2008PC1053AH_pyr.tif\", \"inReview\": false}]'"
      ]
     },
     "execution_count": 48,
     "metadata": {},
     "output_type": "execute_result"
    }
   ],
   "source": [
    "images.to_json()"
   ]
  },
  {
   "cell_type": "code",
   "execution_count": 102,
   "metadata": {},
   "outputs": [
    {
     "data": {
      "text/plain": [
       "Status(code=0, message=)"
      ]
     },
     "execution_count": 102,
     "metadata": {},
     "output_type": "execute_result"
    }
   ],
   "source": [
    "index_params = {\n",
    "  \"metric_type\":\"L2\", # Euclidean distance (L2 norm)\n",
    "  \"index_type\":\"IVF_FLAT\",\n",
    "  \"params\":{\"nlist\":1024}\n",
    "}\n",
    "\n",
    "collection.create_index(\n",
    "  field_name=\"vector\", \n",
    "  index_params=index_params\n",
    ")"
   ]
  },
  {
   "cell_type": "code",
   "execution_count": 103,
   "metadata": {},
   "outputs": [],
   "source": [
    "collection = Collection(\"test6\")      # Get an existing collection.\n",
    "collection.load()\n",
    "\n",
    "search_params = {\n",
    "    \"metric_type\": \"L2\", \n",
    "    \"offset\": 5, \n",
    "    \"ignore_growing\": False, \n",
    "    \"params\": {\"nprobe\": 10}\n",
    "}\n",
    "\n",
    "results = collection.search(\n",
    "    data=[[0.1, 0.2,0.1,0.1,0.1,0.1]], \n",
    "    anns_field=\"vector\", \n",
    "    # the sum of `offset` in `param` and `limit` \n",
    "    # should be less than 16384.\n",
    "    param=search_params,\n",
    "    limit=10,\n",
    "    expr=None,\n",
    "    # set the names of the fields you want to \n",
    "    # retrieve from the search result.\n",
    "    output_fields=['vector_id'],\n",
    "    consistency_level=\"Strong\"\n",
    ")"
   ]
  },
  {
   "cell_type": "code",
   "execution_count": 99,
   "metadata": {},
   "outputs": [
    {
     "data": {
      "text/plain": [
       "[9, 47, 76513, 76470, 76532, 76582, 76541, 76458, 76484, 76563]"
      ]
     },
     "execution_count": 99,
     "metadata": {},
     "output_type": "execute_result"
    }
   ],
   "source": [
    "results[0].ids"
   ]
  },
  {
   "cell_type": "code",
   "execution_count": 97,
   "metadata": {},
   "outputs": [
    {
     "data": {
      "text/plain": [
       "[0.8395081758499146, 0.8425334692001343, 0.8899999260902405, 0.8899999260902405, 0.8899999260902405, 0.8899999260902405, 0.8899999260902405, 0.8899999260902405, 0.8899999260902405, 0.8899999260902405]"
      ]
     },
     "execution_count": 97,
     "metadata": {},
     "output_type": "execute_result"
    }
   ],
   "source": [
    "results[0].distances"
   ]
  },
  {
   "cell_type": "code",
   "execution_count": 6,
   "metadata": {},
   "outputs": [],
   "source": []
  },
  {
   "cell_type": "code",
   "execution_count": 7,
   "metadata": {},
   "outputs": [],
   "source": [
    "\n"
   ]
  },
  {
   "cell_type": "code",
   "execution_count": 48,
   "metadata": {},
   "outputs": [
    {
     "data": {
      "text/plain": [
       "'/1697403999126/2007PC1317AI_pyr.tif'"
      ]
     },
     "execution_count": 48,
     "metadata": {},
     "output_type": "execute_result"
    }
   ],
   "source": [
    "   "
   ]
  },
  {
   "cell_type": "code",
   "execution_count": 10,
   "metadata": {},
   "outputs": [
    {
     "data": {
      "text/plain": [
       "14"
      ]
     },
     "execution_count": 10,
     "metadata": {},
     "output_type": "execute_result"
    }
   ],
   "source": [
    "import numpy as np\n",
    "vector_length=6\n",
    "int((2**np.ceil(np.log2(vector_length)))+vector_length)"
   ]
  },
  {
   "cell_type": "code",
   "execution_count": 63,
   "metadata": {},
   "outputs": [],
   "source": [
    "\n"
   ]
  },
  {
   "cell_type": "code",
   "execution_count": 47,
   "metadata": {},
   "outputs": [],
   "source": [
    "data = [\n",
    "  [],\n",
    "  [[0 for _ in range(8)] for _ in range(50)],\n",
    "]"
   ]
  },
  {
   "cell_type": "code",
   "execution_count": 57,
   "metadata": {},
   "outputs": [
    {
     "data": {
      "text/plain": [
       "[[0,\n",
       "  1,\n",
       "  2,\n",
       "  3,\n",
       "  4,\n",
       "  5,\n",
       "  6,\n",
       "  7,\n",
       "  8,\n",
       "  9,\n",
       "  10,\n",
       "  11,\n",
       "  12,\n",
       "  13,\n",
       "  14,\n",
       "  15,\n",
       "  16,\n",
       "  17,\n",
       "  18,\n",
       "  19,\n",
       "  20,\n",
       "  21,\n",
       "  22,\n",
       "  23,\n",
       "  24,\n",
       "  25,\n",
       "  26,\n",
       "  27,\n",
       "  28,\n",
       "  29,\n",
       "  30,\n",
       "  31,\n",
       "  32,\n",
       "  33,\n",
       "  34,\n",
       "  35,\n",
       "  36,\n",
       "  37,\n",
       "  38,\n",
       "  39,\n",
       "  40,\n",
       "  41,\n",
       "  42,\n",
       "  43,\n",
       "  44,\n",
       "  45,\n",
       "  46,\n",
       "  47,\n",
       "  48,\n",
       "  49],\n",
       " [[0.42240816932729897,\n",
       "   0.6383343946461492,\n",
       "   0.28810157315319396,\n",
       "   0.1769675938310421,\n",
       "   0.23396555014139409,\n",
       "   0.8394299266002027],\n",
       "  [0.5462191912454791,\n",
       "   0.319961654430012,\n",
       "   0.6440269292977728,\n",
       "   0.9657912293768226,\n",
       "   0.8557310252217434,\n",
       "   0.8123235469694763],\n",
       "  [0.567872278920562,\n",
       "   0.9532846104931069,\n",
       "   0.038017142283696015,\n",
       "   0.9547860726486,\n",
       "   0.562570738859362,\n",
       "   0.7462660989223622],\n",
       "  [0.11974878935678201,\n",
       "   0.2865459568028329,\n",
       "   0.6044311131367621,\n",
       "   0.47279393798467495,\n",
       "   0.35812890862730107,\n",
       "   0.981357731170242],\n",
       "  [0.9989275471245004,\n",
       "   0.06942264085760363,\n",
       "   0.0626521709652722,\n",
       "   0.4075628710285224,\n",
       "   0.8878252914708691,\n",
       "   0.03400003193701484],\n",
       "  [0.18234146333943946,\n",
       "   0.6298456312249524,\n",
       "   0.5042610625792929,\n",
       "   0.2939901560653937,\n",
       "   0.4329937274330322,\n",
       "   0.21067374632432534],\n",
       "  [0.4814135049756243,\n",
       "   0.9032935524117922,\n",
       "   0.09445790578893598,\n",
       "   0.693367868434305,\n",
       "   0.11655552187396956,\n",
       "   0.694896928739534],\n",
       "  [0.14793490302369217,\n",
       "   0.08361089792910326,\n",
       "   0.8027334725363438,\n",
       "   0.18100020618207224,\n",
       "   0.8291933593106382,\n",
       "   0.15025275477876032],\n",
       "  [0.37352773817686413,\n",
       "   0.14261177757707078,\n",
       "   0.9229959678160061,\n",
       "   0.7951377077906059,\n",
       "   0.4567032248828108,\n",
       "   0.488179675546901],\n",
       "  [0.03683274734951436,\n",
       "   0.7399500139124178,\n",
       "   0.4913419564152427,\n",
       "   0.05547204051465926,\n",
       "   0.47706687300489614,\n",
       "   0.5966501389895447],\n",
       "  [0.17910258962746728,\n",
       "   0.8593330662236566,\n",
       "   0.6812046276768331,\n",
       "   0.25748378909955394,\n",
       "   0.5354263857554576,\n",
       "   0.4281207353453984],\n",
       "  [0.7546861876004827,\n",
       "   0.06126262409536665,\n",
       "   0.5345396272812332,\n",
       "   0.6702085128493521,\n",
       "   0.7308362067494419,\n",
       "   0.08557025257021933],\n",
       "  [0.5202894596496882,\n",
       "   0.31135150382338517,\n",
       "   0.941463659791052,\n",
       "   0.1204229111273536,\n",
       "   0.7387395566847389,\n",
       "   0.6778559702246616],\n",
       "  [0.9412323209097718,\n",
       "   0.1845807617272227,\n",
       "   0.13874507219742171,\n",
       "   0.47230080466262003,\n",
       "   0.5317372656917685,\n",
       "   0.10395525378341064],\n",
       "  [0.34461022356559035,\n",
       "   0.42004385892815077,\n",
       "   0.3087556227199435,\n",
       "   0.22621182992854283,\n",
       "   0.256837265692343,\n",
       "   0.020888363990615222],\n",
       "  [0.655602660444216,\n",
       "   0.07722827080543548,\n",
       "   0.9489618433532947,\n",
       "   0.6904810347562366,\n",
       "   0.5796149335895934,\n",
       "   0.7881428067864552],\n",
       "  [0.12385458973816088,\n",
       "   0.8768889438538239,\n",
       "   0.8314635831082509,\n",
       "   0.21822753415144247,\n",
       "   0.38406770440424165,\n",
       "   0.9352758174020063],\n",
       "  [0.04199356544283139,\n",
       "   0.25562985887188117,\n",
       "   0.19857283697938577,\n",
       "   0.8569120011261228,\n",
       "   0.27159306435896546,\n",
       "   0.055473419844685234],\n",
       "  [0.6712436949987346,\n",
       "   0.420269486855129,\n",
       "   0.6828585266216168,\n",
       "   0.763128779363215,\n",
       "   0.8946086695483988,\n",
       "   0.6690924675362769],\n",
       "  [0.3175036511660656,\n",
       "   0.22173958777357783,\n",
       "   0.3141995454007256,\n",
       "   0.650863815557425,\n",
       "   0.8077410386637901,\n",
       "   0.16095036917398298],\n",
       "  [0.5917085812823626,\n",
       "   0.609313605247951,\n",
       "   0.5293972965461841,\n",
       "   0.13071102412627245,\n",
       "   0.6174937234945712,\n",
       "   0.3491891418918033],\n",
       "  [0.35889647421227533,\n",
       "   0.6601507299706421,\n",
       "   0.7485739977289096,\n",
       "   0.054552256316673486,\n",
       "   0.5646585703396911,\n",
       "   0.6230451886114122],\n",
       "  [0.35481453377983474,\n",
       "   0.42262828260216956,\n",
       "   0.41086336785313393,\n",
       "   0.9631139795285529,\n",
       "   0.7770026048040521,\n",
       "   0.509898894474886],\n",
       "  [0.8829996054162829,\n",
       "   0.18462503471074576,\n",
       "   0.9444327890965252,\n",
       "   0.3506650921517772,\n",
       "   0.9072541042787332,\n",
       "   0.9290358458718091],\n",
       "  [0.049799195924704276,\n",
       "   0.7641645387234346,\n",
       "   0.5427290356858938,\n",
       "   0.844697616043151,\n",
       "   0.25394565941393243,\n",
       "   0.6361046947503615],\n",
       "  [0.03201461224681046,\n",
       "   0.36486668623466534,\n",
       "   0.8163440293159581,\n",
       "   0.06392636701438237,\n",
       "   0.12648902953605556,\n",
       "   0.204236517355726],\n",
       "  [0.009633062194201014,\n",
       "   0.6463364390600298,\n",
       "   0.5299592975535485,\n",
       "   0.28895634276969284,\n",
       "   0.9316572974957116,\n",
       "   0.2096023099323232],\n",
       "  [0.5360655090330786,\n",
       "   0.5157916267080447,\n",
       "   0.14719796568888055,\n",
       "   0.622378243923279,\n",
       "   0.8175559128749542,\n",
       "   0.2158770232444952],\n",
       "  [0.5749180395847041,\n",
       "   0.21624549420968586,\n",
       "   0.6745073325212522,\n",
       "   0.4466024033617908,\n",
       "   0.411412171963794,\n",
       "   0.9030922487532319],\n",
       "  [0.7696861975554008,\n",
       "   0.30875597079142814,\n",
       "   0.06970281247663157,\n",
       "   0.5065060254705688,\n",
       "   0.4900082903984072,\n",
       "   0.6206189268743376],\n",
       "  [0.23189694429063124,\n",
       "   0.054986539140494006,\n",
       "   0.2601406578894556,\n",
       "   0.8103660544992303,\n",
       "   0.5067975916003209,\n",
       "   0.5046668488027618],\n",
       "  [0.9960708294481017,\n",
       "   0.09035011919887836,\n",
       "   0.5205692752904585,\n",
       "   0.5179456313324592,\n",
       "   0.6728616371028703,\n",
       "   0.4140441630556779],\n",
       "  [0.4629872836423766,\n",
       "   0.6113806416500427,\n",
       "   0.8434239872594617,\n",
       "   0.0033805352639790787,\n",
       "   0.1363586018086177,\n",
       "   0.2871253354226374],\n",
       "  [0.9711307407536014,\n",
       "   0.7512723216935948,\n",
       "   0.47573145108109305,\n",
       "   0.4496798729060739,\n",
       "   0.8376361061000339,\n",
       "   0.010089961881852072],\n",
       "  [0.5939868267278411,\n",
       "   0.19357099405647726,\n",
       "   0.09773220728528698,\n",
       "   0.6766857470203869,\n",
       "   0.22301029883564738,\n",
       "   0.8181359306181455],\n",
       "  [0.6338582171396866,\n",
       "   0.3855712070074421,\n",
       "   0.3001595876504223,\n",
       "   0.4134419558577259,\n",
       "   0.8616730284769603,\n",
       "   0.942088069901188],\n",
       "  [0.9083125257316718,\n",
       "   0.838298667250553,\n",
       "   0.8502875626315508,\n",
       "   0.924400818098621,\n",
       "   0.07636341396873347,\n",
       "   0.800237145264104],\n",
       "  [0.25211527110016063,\n",
       "   0.2924179105342858,\n",
       "   0.4419191097369808,\n",
       "   0.7744044637626641,\n",
       "   0.33846634502844875,\n",
       "   0.1329634893147329],\n",
       "  [0.7480534666094613,\n",
       "   0.017758552078560585,\n",
       "   0.08321168680781965,\n",
       "   0.8877751433919666,\n",
       "   0.6329232363324305,\n",
       "   0.5359432236987052],\n",
       "  [0.6935423155944933,\n",
       "   0.13360983272935278,\n",
       "   0.6215719217771006,\n",
       "   0.276163691747941,\n",
       "   0.8599484669449646,\n",
       "   0.10952396766808914],\n",
       "  [0.12470378958230544,\n",
       "   0.5057038795963411,\n",
       "   0.13752352011674662,\n",
       "   0.18940316179784566,\n",
       "   0.8540361266664811,\n",
       "   0.875855961382786],\n",
       "  [0.6466942750930432,\n",
       "   0.8888215337371342,\n",
       "   0.17034576452306593,\n",
       "   0.11902443931332818,\n",
       "   0.010314089799382753,\n",
       "   0.4913679989942127],\n",
       "  [0.8347129960097789,\n",
       "   0.9606758810315275,\n",
       "   0.4112854675375077,\n",
       "   0.8020144029492218,\n",
       "   0.7836156302394542,\n",
       "   0.5688639449459509],\n",
       "  [0.22894558102668083,\n",
       "   0.4813929907180592,\n",
       "   0.5283457796938301,\n",
       "   0.4781181145201119,\n",
       "   0.3190281619258968,\n",
       "   0.748265773227387],\n",
       "  [0.4259841987254732,\n",
       "   0.985703264198822,\n",
       "   0.5934639546300291,\n",
       "   0.8935585173347581,\n",
       "   0.9311359643830623,\n",
       "   0.5884988286190618],\n",
       "  [0.39911937484662763,\n",
       "   0.3141884276816954,\n",
       "   0.1531112599879898,\n",
       "   0.8975139279688592,\n",
       "   0.4880560495780044,\n",
       "   0.8475190388858564],\n",
       "  [0.6017201095524015,\n",
       "   0.8835626938131965,\n",
       "   0.6254037251025826,\n",
       "   0.177387153008829,\n",
       "   0.34449488020164754,\n",
       "   0.9131022352352264],\n",
       "  [0.33668306194703534,\n",
       "   0.9849748418122587,\n",
       "   0.30919261504172757,\n",
       "   0.12258092420167244,\n",
       "   0.39124072539713795,\n",
       "   0.30306740914074315],\n",
       "  [0.010483370609447817,\n",
       "   0.9850700004813394,\n",
       "   0.0701289387087668,\n",
       "   0.4790884073737103,\n",
       "   0.7203579920719029,\n",
       "   0.7974283197556941],\n",
       "  [0.6936694275004074,\n",
       "   0.29815838083930424,\n",
       "   0.28170071120445606,\n",
       "   0.5221766321152849,\n",
       "   0.3208689421535206,\n",
       "   0.826789023491107]]]"
      ]
     },
     "execution_count": 57,
     "metadata": {},
     "output_type": "execute_result"
    }
   ],
   "source": [
    "data"
   ]
  },
  {
   "cell_type": "code",
   "execution_count": 53,
   "metadata": {},
   "outputs": [],
   "source": [
    "data = [\n",
    "  [i for i in range(50)],\n",
    "  [[random.random() for _ in range(6)] for _ in range(50)],\n",
    "\n",
    "]"
   ]
  },
  {
   "cell_type": "code",
   "execution_count": 65,
   "metadata": {},
   "outputs": [
    {
     "data": {
      "text/plain": [
       "[0.15242062402757328,\n",
       " 0.937792038062053,\n",
       " 0.5340951467373588,\n",
       " 0.9147323451080307,\n",
       " 0.38245700982470976,\n",
       " 0.01661232968075399]"
      ]
     },
     "execution_count": 65,
     "metadata": {},
     "output_type": "execute_result"
    }
   ],
   "source": [
    "[random.random() for _ in range(6)]"
   ]
  },
  {
   "cell_type": "code",
   "execution_count": 66,
   "metadata": {},
   "outputs": [],
   "source": [
    "collection = Collection(\"test6\")      # Get an existing collection.\n",
    "mr = collection.insert(data)"
   ]
  },
  {
   "cell_type": "code",
   "execution_count": 28,
   "metadata": {},
   "outputs": [
    {
     "data": {
      "text/plain": [
       "[[0,\n",
       "  1,\n",
       "  2,\n",
       "  3,\n",
       "  4,\n",
       "  5,\n",
       "  6,\n",
       "  7,\n",
       "  8,\n",
       "  9,\n",
       "  10,\n",
       "  11,\n",
       "  12,\n",
       "  13,\n",
       "  14,\n",
       "  15,\n",
       "  16,\n",
       "  17,\n",
       "  18,\n",
       "  19,\n",
       "  20,\n",
       "  21,\n",
       "  22,\n",
       "  23,\n",
       "  24,\n",
       "  25,\n",
       "  26,\n",
       "  27,\n",
       "  28,\n",
       "  29,\n",
       "  30,\n",
       "  31,\n",
       "  32,\n",
       "  33,\n",
       "  34,\n",
       "  35,\n",
       "  36,\n",
       "  37,\n",
       "  38,\n",
       "  39,\n",
       "  40,\n",
       "  41,\n",
       "  42,\n",
       "  43,\n",
       "  44,\n",
       "  45,\n",
       "  46,\n",
       "  47,\n",
       "  48,\n",
       "  49,\n",
       "  50,\n",
       "  51,\n",
       "  52,\n",
       "  53,\n",
       "  54,\n",
       "  55,\n",
       "  56,\n",
       "  57,\n",
       "  58,\n",
       "  59,\n",
       "  60,\n",
       "  61],\n",
       " [[1, 0, 0, 0, 0, 0],\n",
       "  [1, 0, 0, 0, 0, 0],\n",
       "  [1, 0, 0, 0, 0, 0],\n",
       "  [1, 0, 0, 0, 0, 0],\n",
       "  [1, 0, 0, 0, 0, 0],\n",
       "  [1, 0, 0, 0, 0, 0],\n",
       "  [1, 0, 0, 0, 0, 0],\n",
       "  [1, 0, 0, 0, 0, 0],\n",
       "  [1, 0, 0, 0, 0, 0],\n",
       "  [1, 0, 0, 0, 0, 0],\n",
       "  [1, 0, 0, 0, 0, 0],\n",
       "  [1, 0, 0, 0, 0, 0],\n",
       "  [1, 0, 0, 0, 0, 0],\n",
       "  [1, 0, 0, 0, 0, 0],\n",
       "  [1, 0, 0, 0, 0, 0],\n",
       "  [1, 0, 0, 0, 0, 0],\n",
       "  [1, 0, 0, 0, 0, 0],\n",
       "  [1, 0, 0, 0, 0, 0],\n",
       "  [1, 0, 0, 0, 0, 0],\n",
       "  [1, 0, 0, 0, 0, 0],\n",
       "  [1, 0, 0, 0, 0, 0],\n",
       "  [1, 0, 0, 0, 0, 0],\n",
       "  [1, 0, 0, 0, 0, 0],\n",
       "  [1, 0, 0, 0, 0, 0],\n",
       "  [1, 0, 0, 0, 0, 0],\n",
       "  [1, 0, 0, 0, 0, 0],\n",
       "  [1, 0, 0, 0, 0, 0],\n",
       "  [1, 0, 0, 0, 0, 0],\n",
       "  [1, 0, 0, 0, 0, 0],\n",
       "  [1, 0, 0, 0, 0, 0],\n",
       "  [1, 0, 0, 0, 0, 0],\n",
       "  [1, 0, 0, 0, 0, 0],\n",
       "  [1, 0, 0, 0, 0, 0],\n",
       "  [1, 0, 0, 0, 0, 0],\n",
       "  [1, 0, 0, 0, 0, 0],\n",
       "  [1, 0, 0, 0, 0, 0],\n",
       "  [1, 0, 0, 0, 0, 0],\n",
       "  [1, 0, 0, 0, 0, 0],\n",
       "  [1, 0, 0, 0, 0, 0],\n",
       "  [1, 0, 0, 0, 0, 0],\n",
       "  [1, 0, 0, 0, 0, 0],\n",
       "  [1, 0, 0, 0, 0, 0],\n",
       "  [1, 0, 0, 0, 0, 0],\n",
       "  [1, 0, 0, 0, 0, 0],\n",
       "  [1, 0, 0, 0, 0, 0],\n",
       "  [1, 0, 0, 0, 0, 0],\n",
       "  [1, 0, 0, 0, 0, 0],\n",
       "  [1, 0, 0, 0, 0, 0],\n",
       "  [1, 0, 0, 0, 0, 0],\n",
       "  [1, 0, 0, 0, 0, 0],\n",
       "  [1, 0, 0, 0, 0, 0],\n",
       "  [1, 0, 0, 0, 0, 0],\n",
       "  [1, 0, 0, 0, 0, 0],\n",
       "  [1, 0, 0, 0, 0, 0],\n",
       "  [1, 0, 0, 0, 0, 0],\n",
       "  [1, 0, 0, 0, 0, 0],\n",
       "  [1, 0, 0, 0, 0, 0],\n",
       "  [1, 0, 0, 0, 0, 0],\n",
       "  [1, 0, 0, 0, 0, 0],\n",
       "  [1, 0, 0, 0, 0, 0],\n",
       "  [1, 0, 0, 0, 0, 0],\n",
       "  [1, 0, 0, 0, 0, 0]]]"
      ]
     },
     "execution_count": 28,
     "metadata": {},
     "output_type": "execute_result"
    }
   ],
   "source": [
    "data"
   ]
  },
  {
   "cell_type": "code",
   "execution_count": 12,
   "metadata": {},
   "outputs": [
    {
     "data": {
      "text/plain": [
       "[[1, 0, 0, 0, 0, 0],\n",
       " [1, 0, 0, 0, 0, 0],\n",
       " [1, 0, 0, 0, 0, 0],\n",
       " [1, 0, 0, 0, 0, 0],\n",
       " [1, 0, 0, 0, 0, 0],\n",
       " [1, 0, 0, 0, 0, 0],\n",
       " [1, 0, 0, 0, 0, 0],\n",
       " [1, 0, 0, 0, 0, 0],\n",
       " [1, 0, 0, 0, 0, 0],\n",
       " [1, 0, 0, 0, 0, 0],\n",
       " [1, 0, 0, 0, 0, 0],\n",
       " [1, 0, 0, 0, 0, 0],\n",
       " [1, 0, 0, 0, 0, 0],\n",
       " [1, 0, 0, 0, 0, 0],\n",
       " [1, 0, 0, 0, 0, 0],\n",
       " [1, 0, 0, 0, 0, 0],\n",
       " [1, 0, 0, 0, 0, 0],\n",
       " [1, 0, 0, 0, 0, 0],\n",
       " [1, 0, 0, 0, 0, 0],\n",
       " [1, 0, 0, 0, 0, 0],\n",
       " [1, 0, 0, 0, 0, 0],\n",
       " [1, 0, 0, 0, 0, 0],\n",
       " [1, 0, 0, 0, 0, 0],\n",
       " [1, 0, 0, 0, 0, 0],\n",
       " [1, 0, 0, 0, 0, 0],\n",
       " [1, 0, 0, 0, 0, 0],\n",
       " [1, 0, 0, 0, 0, 0],\n",
       " [1, 0, 0, 0, 0, 0],\n",
       " [1, 0, 0, 0, 0, 0],\n",
       " [1, 0, 0, 0, 0, 0],\n",
       " [1, 0, 0, 0, 0, 0],\n",
       " [1, 0, 0, 0, 0, 0],\n",
       " [1, 0, 0, 0, 0, 0],\n",
       " [1, 0, 0, 0, 0, 0],\n",
       " [1, 0, 0, 0, 0, 0],\n",
       " [1, 0, 0, 0, 0, 0],\n",
       " [1, 0, 0, 0, 0, 0],\n",
       " [1, 0, 0, 0, 0, 0],\n",
       " [1, 0, 0, 0, 0, 0],\n",
       " [1, 0, 0, 0, 0, 0],\n",
       " [1, 0, 0, 0, 0, 0],\n",
       " [1, 0, 0, 0, 0, 0],\n",
       " [1, 0, 0, 0, 0, 0],\n",
       " [1, 0, 0, 0, 0, 0],\n",
       " [1, 0, 0, 0, 0, 0],\n",
       " [1, 0, 0, 0, 0, 0],\n",
       " [1, 0, 0, 0, 0, 0],\n",
       " [1, 0, 0, 0, 0, 0],\n",
       " [1, 0, 0, 0, 0, 0],\n",
       " [1, 0, 0, 0, 0, 0],\n",
       " [1, 0, 0, 0, 0, 0],\n",
       " [1, 0, 0, 0, 0, 0],\n",
       " [1, 0, 0, 0, 0, 0],\n",
       " [1, 0, 0, 0, 0, 0],\n",
       " [1, 0, 0, 0, 0, 0],\n",
       " [1, 0, 0, 0, 0, 0],\n",
       " [1, 0, 0, 0, 0, 0],\n",
       " [1, 0, 0, 0, 0, 0],\n",
       " [1, 0, 0, 0, 0, 0],\n",
       " [1, 0, 0, 0, 0, 0],\n",
       " [1, 0, 0, 0, 0, 0],\n",
       " [1, 0, 0, 0, 0, 0]]"
      ]
     },
     "execution_count": 12,
     "metadata": {},
     "output_type": "execute_result"
    }
   ],
   "source": [
    "matrix"
   ]
  }
 ],
 "metadata": {
  "kernelspec": {
   "display_name": "terumo-service-search-monolith-tK6ZlZEC",
   "language": "python",
   "name": "python3"
  },
  "language_info": {
   "codemirror_mode": {
    "name": "ipython",
    "version": 3
   },
   "file_extension": ".py",
   "mimetype": "text/x-python",
   "name": "python",
   "nbconvert_exporter": "python",
   "pygments_lexer": "ipython3",
   "version": "3.10.4"
  },
  "orig_nbformat": 4
 },
 "nbformat": 4,
 "nbformat_minor": 2
}
